{
 "cells": [
  {
   "cell_type": "markdown",
   "metadata": {},
   "source": [
    "# Stats\n",
    "--> TODO: Need to dig further on these np and scipy functions to check other params"
   ]
  },
  {
   "cell_type": "code",
   "execution_count": 6,
   "metadata": {},
   "outputs": [
    {
     "name": "stdout",
     "output_type": "stream",
     "text": [
      "5.2727272727272725\n",
      "4.0\n",
      "ModeResult(mode=array([9]), count=array([5]))\n",
      "3.492613220417917\n",
      "12.198347107438014\n",
      "ModeResult(mode=array([1]), count=array([2]))\n"
     ]
    }
   ],
   "source": [
    "#Mean, Median, Mode, Standard Deviation, Variance\n",
    "\n",
    "import numpy as np\n",
    "from scipy import stats\n",
    "\n",
    "data = [1,1,2,2,3,4,9,9,9,9,9]\n",
    "\n",
    "mean = np.mean(data)\n",
    "median = np.median(data)\n",
    "mode = stats.mode(data)\n",
    "s = np.std(data)\n",
    "variance = np.var(data)\n",
    "\n",
    "print(mean)\n",
    "print(median)\n",
    "print(mode)\n",
    "print(s)\n",
    "print(variance)\n",
    "\n",
    "data = [1,1,2,2,3,4,9,9] # now we have 3 modes\n",
    "print(stats.mode(data)) # but this doesn't give all modes, just one of them"
   ]
  },
  {
   "cell_type": "markdown",
   "metadata": {},
   "source": [
    "## Funtion to find multi-mode"
   ]
  },
  {
   "cell_type": "code",
   "execution_count": 18,
   "metadata": {},
   "outputs": [
    {
     "name": "stdout",
     "output_type": "stream",
     "text": [
      "Multi mode:[1, 2, 9], count=2\n",
      "Single mode:[9], count=5\n",
      "No mode\n"
     ]
    }
   ],
   "source": [
    "import numpy as np\n",
    "def find_mode(data) :\n",
    "    item_count_dict = {}\n",
    "    for i in data:\n",
    "        if(i in item_count_dict):\n",
    "            item_count_dict[i] = item_count_dict[i] + 1\n",
    "        else:\n",
    "            item_count_dict[i] = 1\n",
    "\n",
    "    max_val = np.max(np.array([i for i in item_count_dict.values()]))\n",
    "    modes_lst = []\n",
    "    if max_val > 1:\n",
    "        for i,j in item_count_dict.items():\n",
    "            if(j==max_val):\n",
    "                modes_lst.append(i)\n",
    "\n",
    "        if len(modes_lst) == 1:\n",
    "            return f\"Single mode:{modes_lst}, count={max_val}\"\n",
    "        else:\n",
    "            return f\"Multi mode:{modes_lst}, count={max_val}\"\n",
    "    else:\n",
    "        return \"No mode\"\n",
    "\n",
    "data = [1,1,2,2,3,4,9,9] # multi-mode [1,2,9]\n",
    "print(find_mode(data))\n",
    "data = [1,1,2,2,3,4,9,9,9,9,9] # single mode 9\n",
    "print(find_mode(data))\n",
    "data = [1,2,3,4,9] # no mode\n",
    "print(find_mode(data))"
   ]
  },
  {
   "cell_type": "markdown",
   "metadata": {},
   "source": [
    "## 5-number/5-point summary"
   ]
  },
  {
   "cell_type": "code",
   "execution_count": 25,
   "metadata": {},
   "outputs": [
    {
     "name": "stdout",
     "output_type": "stream",
     "text": [
      "Min=0.0, Q1=0.5, Median(Q2)=7.5, Q3=44.0, Max=63.0\n",
      "Range=63.0, IQR(Q3-Q1)=43.5\n"
     ]
    }
   ],
   "source": [
    "import numpy as np\n",
    "\n",
    "def fivept(data):\n",
    "    \"\"\"To find out the Five number summary\"\"\"\n",
    "    \n",
    "    return np.percentile(data, [0, 25, 50, 75, 100], interpolation = 'midpoint')\n",
    "\n",
    "datapoints = [0, 0, 1, 2, 63, 61, 27, 13]\n",
    "\n",
    "five_point_summary = fivept(datapoints)\n",
    "print(f'Min={five_point_summary[0]}, Q1={five_point_summary[1]}, Median(Q2)={five_point_summary[2]}, Q3={five_point_summary[3]}, Max={five_point_summary[4]}')\n",
    "print(f'Range={five_point_summary[4]-five_point_summary[0]}, IQR(Q3-Q1)={five_point_summary[3]-five_point_summary[1]}')\n"
   ]
  },
  {
   "cell_type": "code",
   "execution_count": 35,
   "metadata": {},
   "outputs": [
    {
     "data": {
      "text/plain": [
       "<matplotlib.axes._subplots.AxesSubplot at 0x2228caa8048>"
      ]
     },
     "execution_count": 35,
     "metadata": {},
     "output_type": "execute_result"
    },
    {
     "data": {
      "image/png": "[encoded data removed]",
      "text/plain": [
       "<Figure size 432x288 with 1 Axes>"
      ]
     },
     "metadata": {},
     "output_type": "display_data"
    }
   ],
   "source": [
    "#Box Plot\n",
    "import pandas as pd\n",
    "import numpy as np\n",
    "# df = pd.DataFrame(np.random.rand(10, 5), columns=['A', 'B', 'C', 'D', 'E'])\n",
    "df = pd.DataFrame(five_point_summary, columns=['A'])\n",
    "# print(df)\n",
    "df.plot.box()\n",
    "#df.describe()"
   ]
  },
  {
   "cell_type": "markdown",
   "metadata": {},
   "source": [
    "## Skewness & Kurtosis"
   ]
  },
  {
   "cell_type": "code",
   "execution_count": 38,
   "metadata": {},
   "outputs": [
    {
     "name": "stdout",
     "output_type": "stream",
     "text": [
      "0.8240470530860061\n",
      "-1.0340451097899879\n"
     ]
    }
   ],
   "source": [
    "#Skewness & Kurtosis\n",
    "import numpy as np\n",
    "from scipy.stats import kurtosis, skew\n",
    "# x = np.random.normal(0, 2, 10000)   # create random values based on a normal distribution\n",
    "\n",
    "print(skew(datapoints)) # Right skewed as seen in above boxplot, top box is taller\n",
    "print(kurtosis(datapoints)) # gives excess kurtosis, as excess kurtosis<0, platykurtic (need to brush up what this means!)"
   ]
  },
  {
   "cell_type": "markdown",
   "metadata": {},
   "source": [
    "## Finding Outliers"
   ]
  },
  {
   "cell_type": "code",
   "execution_count": 40,
   "metadata": {},
   "outputs": [
    {
     "data": {
      "text/plain": [
       "[15, -18]"
      ]
     },
     "execution_count": 40,
     "metadata": {},
     "output_type": "execute_result"
    }
   ],
   "source": [
    "#Finding Outliers\n",
    "#IQR Method\n",
    "\n",
    "import numpy as np\n",
    "data = [1, 2, 2, 2, 3, 1, 1, 15, 2, 2, 2, 3, -18,1, 1, 2]\n",
    "def Outlier_detection(var):\n",
    "    Q1, Q3 = np.percentile(var, [25,75])\n",
    "    IQR = Q3-Q1\n",
    "    lower_bound = Q1 - (IQR * 1.5)\n",
    "    upper_bound = Q3 + (IQR * 1.5)\n",
    "    out = [i for i in var if (i > upper_bound) or (i < lower_bound)]\n",
    "    \n",
    "    #return np.where((var > upper_bound) | (var < lower_bbound))\n",
    "    return out\n",
    "\n",
    "Outlier_detection(data)"
   ]
  },
  {
   "cell_type": "code",
   "execution_count": 45,
   "metadata": {},
   "outputs": [
    {
     "name": "stdout",
     "output_type": "stream",
     "text": [
      "mean of the dataset is 1.375\n",
      "std. deviation is 5.967359131140006\n",
      "1 0.06284186886676618\n",
      "2 0.10473644811127697\n",
      "2 0.10473644811127697\n",
      "2 0.10473644811127697\n",
      "3 0.2723147650893201\n",
      "1 0.06284186886676618\n",
      "1 0.06284186886676618\n",
      "15 2.283254568825838\n",
      "2 0.10473644811127697\n",
      "2 0.10473644811127697\n",
      "2 0.10473644811127697\n",
      "3 0.2723147650893201\n",
      "-18 3.246829891449586\n",
      "1 0.06284186886676618\n",
      "1 0.06284186886676618\n",
      "2 0.10473644811127697\n",
      "outlier in dataset is [-18]\n"
     ]
    }
   ],
   "source": [
    "#Finding Outliers\n",
    "#Z-Score Method\n",
    "\n",
    "import numpy as np\n",
    "# data = [1, 2, 2, 2, 3, 1, 1, 15, 2, 2, 2, 3, 1, 1, 2] \n",
    "data = [1, 2, 2, 2, 3, 1, 1, 15, 2, 2, 2, 3, -18,1, 1, 2]\n",
    "mean = np.mean(data) \n",
    "std = np.std(data)\n",
    "\n",
    "print('mean of the dataset is', mean) \n",
    "print('std. deviation is', std) \n",
    "\n",
    "threshold = 3\n",
    "outlier = [] \n",
    "for i in data: \n",
    "    z = (i-mean)/std \n",
    "    if z < 0:\n",
    "        z = z * -1 # so we can just compare the absolute val\n",
    "    print(i, z)\n",
    "    if (z > threshold): \n",
    "        outlier.append(i) \n",
    "print('outlier in dataset is', outlier) # 15 2.283254568825838 --> so 15 is not considered here"
   ]
  },
  {
   "cell_type": "markdown",
   "metadata": {},
   "source": [
    "## Co-Variance"
   ]
  },
  {
   "cell_type": "code",
   "execution_count": 48,
   "metadata": {},
   "outputs": [
    {
     "name": "stdout",
     "output_type": "stream",
     "text": [
      "[[1.23 2.12 3.34 4.5 ]\n",
      " [2.56 2.89 3.76 3.95]]\n",
      "[[2.03629167 0.9313    ]\n",
      " [0.9313     0.4498    ]]\n"
     ]
    }
   ],
   "source": [
    "#Finding Co-variance\n",
    "# gives direction of relationship\n",
    "import numpy as np \n",
    "x = [1.23, 2.12, 3.34, 4.5]   \n",
    "y = [2.56, 2.89, 3.76, 3.95]   \n",
    "\n",
    "cov_mat = np.array([x, y])    \n",
    "print(cov_mat)\n",
    "print(np.cov(cov_mat))"
   ]
  },
  {
   "cell_type": "markdown",
   "metadata": {},
   "source": [
    "## Correlation Coefficient - Pearson & Spearman"
   ]
  },
  {
   "cell_type": "code",
   "execution_count": 50,
   "metadata": {},
   "outputs": [
    {
     "name": "stdout",
     "output_type": "stream",
     "text": [
      "0.697767764291663\n",
      "0.4424242424242424\n"
     ]
    }
   ],
   "source": [
    "# Finding Correlation between variables \n",
    "# co-relation gives strength and direction of relationship\n",
    "import numpy as np\n",
    "import scipy.stats\n",
    "x = np.array([10, 20,30,80,34,24,12,18,98,102])\n",
    "y = np.array([2, 1, 4, 5, 8, 12, 18, 25, 96, 48])\n",
    "print(scipy.stats.pearsonr(x, y)[0])    # Pearson's r\n",
    "print(scipy.stats.spearmanr(x, y)[0])   # Spearman's correlation(used for non-linear relationship, but how do we decide it's non-linear relationship, by graph? by equation?)"
   ]
  }
 ],
 "metadata": {
  "kernelspec": {
   "display_name": "Python 3",
   "language": "python",
   "name": "python3"
  },
  "language_info": {
   "codemirror_mode": {
    "name": "ipython",
    "version": 3
   },
   "file_extension": ".py",
   "mimetype": "text/x-python",
   "name": "python",
   "nbconvert_exporter": "python",
   "pygments_lexer": "ipython3",
   "version": "3.6.5"
  }
 },
 "nbformat": 4,
 "nbformat_minor": 2
}
