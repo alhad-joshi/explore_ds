{
 "cells": [
  {
   "cell_type": "code",
   "execution_count": 1,
   "metadata": {},
   "outputs": [
    {
     "name": "stdout",
     "output_type": "stream",
     "text": [
      "classpython\n"
     ]
    }
   ],
   "source": [
    "str1=\"python class\"\n",
    "print (''.join(str1.split()[::-1]))\n",
    "\n",
    "# classpython\n",
    "\n",
    "# class python\n",
    "\n",
    "# ssalc nohtyp\n",
    "\n",
    "# None of the Above"
   ]
  },
  {
   "cell_type": "code",
   "execution_count": 7,
   "metadata": {},
   "outputs": [
    {
     "name": "stdout",
     "output_type": "stream",
     "text": [
      "99\n",
      "[97, 98, 99]\n",
      "98\n"
     ]
    }
   ],
   "source": [
    "# 3. Select the correct option to get 98 as output?\n",
    "\n",
    "list1= ['Python', 10, 20, ['Hello', 30.40, [11, 22, [97, 98, 99], 33] , 50], 66, 78]\n",
    "\n",
    "\n",
    "  \n",
    "\n",
    "# print(list1[-3][-2][-2][-2]\n",
    "\n",
    "print(list1[3][2][2][2])\n",
    "\n",
    "print(list1[3][2][2])\n",
    "\n",
    "print(list1[-3][-2][-2][-2])"
   ]
  },
  {
   "cell_type": "code",
   "execution_count": 10,
   "metadata": {},
   "outputs": [
    {
     "name": "stdout",
     "output_type": "stream",
     "text": [
      "[]\n"
     ]
    }
   ],
   "source": [
    "# * 4. What should be the output of the following program?\n",
    "list1= [1, 2, 3, 4, 5, 6, 7, 8, 9]\n",
    "print (list1[2:7:-1])\n",
    "\n",
    "# 3,4,5,6,7,8\n",
    "\n",
    "# [3,4,5,6,7,8]\n",
    "\n",
    "# Error\n",
    "\n",
    "# []"
   ]
  },
  {
   "cell_type": "code",
   "execution_count": 15,
   "metadata": {},
   "outputs": [
    {
     "name": "stdout",
     "output_type": "stream",
     "text": [
      "12\n",
      "12\n"
     ]
    }
   ],
   "source": [
    "# 5. Select correct option/s to get the below output?\n",
    "inp_str = \"Learnbay classes\"\n",
    "\n",
    "# output:- 12\n",
    "\n",
    "print(inp_str.find('ss'))\n",
    "\n",
    "# ValueError\n",
    "\n",
    "print(inp_str.index('s'))\n",
    "\n",
    "# None of the above"
   ]
  },
  {
   "cell_type": "code",
   "execution_count": 19,
   "metadata": {},
   "outputs": [
    {
     "name": "stdout",
     "output_type": "stream",
     "text": [
      "['C:\\\\Users\\\\ngc_2\\\\anaconda3\\\\lib\\\\site-packages\\\\ipykernel_launcher.py', '-f', 'C:\\\\Users\\\\ngc_2\\\\AppData\\\\Roaming\\\\jupyter\\\\runtime\\\\kernel-aeb3339c-a190-4a60-ad1a-dcf380346e92.json']\n",
      "3\n"
     ]
    }
   ],
   "source": [
    "# What is length of sys.argv?\n",
    "\n",
    "# No of argument\n",
    "\n",
    "# No of argument + 1\n",
    "\n",
    "# No of argument -1\n",
    "\n",
    "# None of the above \n",
    "\n",
    "import sys\n",
    "print(sys.argv)\n",
    "print(len(sys.argv))"
   ]
  },
  {
   "cell_type": "code",
   "execution_count": 21,
   "metadata": {},
   "outputs": [
    {
     "ename": "UnboundLocalError",
     "evalue": "local variable 'total' referenced before assignment",
     "output_type": "error",
     "traceback": [
      "\u001b[1;31m---------------------------------------------------------------------------\u001b[0m",
      "\u001b[1;31mUnboundLocalError\u001b[0m                         Traceback (most recent call last)",
      "\u001b[1;32m<ipython-input-21-09bbf2680b81>\u001b[0m in \u001b[0;36m<module>\u001b[1;34m\u001b[0m\n\u001b[0;32m      2\u001b[0m        \u001b[0mtotal\u001b[0m \u001b[1;33m+=\u001b[0m \u001b[1;36m1\u001b[0m\u001b[1;33m\u001b[0m\u001b[1;33m\u001b[0m\u001b[0m\n\u001b[0;32m      3\u001b[0m        \u001b[1;32mreturn\u001b[0m \u001b[0mtotal\u001b[0m\u001b[1;33m\u001b[0m\u001b[1;33m\u001b[0m\u001b[0m\n\u001b[1;32m----> 4\u001b[1;33m \u001b[0mfoo\u001b[0m\u001b[1;33m(\u001b[0m\u001b[1;33m)\u001b[0m\u001b[1;33m\u001b[0m\u001b[1;33m\u001b[0m\u001b[0m\n\u001b[0m\u001b[0;32m      5\u001b[0m \u001b[0mtotal\u001b[0m \u001b[1;33m=\u001b[0m \u001b[1;36m10\u001b[0m\u001b[1;33m\u001b[0m\u001b[1;33m\u001b[0m\u001b[0m\n\u001b[0;32m      6\u001b[0m \u001b[1;33m\u001b[0m\u001b[0m\n",
      "\u001b[1;32m<ipython-input-21-09bbf2680b81>\u001b[0m in \u001b[0;36mfoo\u001b[1;34m()\u001b[0m\n\u001b[0;32m      1\u001b[0m \u001b[1;32mdef\u001b[0m \u001b[0mfoo\u001b[0m\u001b[1;33m(\u001b[0m\u001b[1;33m)\u001b[0m\u001b[1;33m:\u001b[0m\u001b[1;33m\u001b[0m\u001b[1;33m\u001b[0m\u001b[0m\n\u001b[1;32m----> 2\u001b[1;33m        \u001b[0mtotal\u001b[0m \u001b[1;33m+=\u001b[0m \u001b[1;36m1\u001b[0m\u001b[1;33m\u001b[0m\u001b[1;33m\u001b[0m\u001b[0m\n\u001b[0m\u001b[0;32m      3\u001b[0m        \u001b[1;32mreturn\u001b[0m \u001b[0mtotal\u001b[0m\u001b[1;33m\u001b[0m\u001b[1;33m\u001b[0m\u001b[0m\n\u001b[0;32m      4\u001b[0m \u001b[0mfoo\u001b[0m\u001b[1;33m(\u001b[0m\u001b[1;33m)\u001b[0m\u001b[1;33m\u001b[0m\u001b[1;33m\u001b[0m\u001b[0m\n\u001b[0;32m      5\u001b[0m \u001b[0mtotal\u001b[0m \u001b[1;33m=\u001b[0m \u001b[1;36m10\u001b[0m\u001b[1;33m\u001b[0m\u001b[1;33m\u001b[0m\u001b[0m\n",
      "\u001b[1;31mUnboundLocalError\u001b[0m: local variable 'total' referenced before assignment"
     ]
    }
   ],
   "source": [
    "def foo():\n",
    "       total += 1\n",
    "       return total\n",
    "foo()\n",
    "total = 10\n",
    "\n",
    "# 10\n",
    "\n",
    "# 11\n",
    "\n",
    "# Error\n",
    "\n",
    "# None of the above"
   ]
  },
  {
   "cell_type": "code",
   "execution_count": 23,
   "metadata": {},
   "outputs": [
    {
     "name": "stdout",
     "output_type": "stream",
     "text": [
      "1\n",
      "2\n"
     ]
    }
   ],
   "source": [
    "# 8. Output Of the Following Code?\n",
    "def foo():\n",
    " try:\n",
    "  print(1)\n",
    " finally:\n",
    "  print(2)\n",
    "foo()\n",
    "\n",
    "# 1\n",
    "\n",
    "# 2\n",
    "\n",
    "# 1     \n",
    "# 2\n",
    "\n",
    "# None of the above"
   ]
  },
  {
   "cell_type": "code",
   "execution_count": 24,
   "metadata": {},
   "outputs": [
    {
     "name": "stdout",
     "output_type": "stream",
     "text": [
      "B\n"
     ]
    }
   ],
   "source": [
    "# 9. Output of The code Below:\n",
    "\n",
    "if (10 < 0) and (0 < -10):\n",
    " print(\"A\")\n",
    "elif (10 > 0) or False:\n",
    " print(\"B\")\n",
    "else:\n",
    " print(\"C\")\n",
    "\n",
    "# A\n",
    "\n",
    "# B\n",
    "\n",
    "# Error\n",
    "\n",
    "# C"
   ]
  },
  {
   "cell_type": "code",
   "execution_count": 25,
   "metadata": {},
   "outputs": [],
   "source": [
    "# 10. Which is best way to import the pandas module in your program ?\n",
    "\n",
    "# import pandas\n",
    "\n",
    "# import pandas as p\n",
    "\n",
    "# from pandas import *\n",
    "\n",
    "# All of the above"
   ]
  },
  {
   "cell_type": "code",
   "execution_count": 26,
   "metadata": {},
   "outputs": [],
   "source": [
    "# 11. ndarray.dataitemSize is the buffer containing the actual elements of the array?\n",
    "\n",
    "# True\n",
    "\n",
    "# False\n",
    "\n",
    "# --> True (??)\n",
    "\n",
    "# Read --> https://numpy.org/doc/stable/reference/generated/numpy.ndarray.itemsize.html and\n",
    "#           https://numpy.org/doc/stable/reference/generated/numpy.ndarray.data.html"
   ]
  },
  {
   "cell_type": "code",
   "execution_count": 29,
   "metadata": {},
   "outputs": [
    {
     "name": "stdout",
     "output_type": "stream",
     "text": [
      "1\n"
     ]
    }
   ],
   "source": [
    "# 12. What will be output for the following code?\n",
    "\n",
    "\n",
    "import pandas as pd\n",
    "import numpy as np\n",
    "\n",
    "s = pd.Series(np.random.randn(4))\n",
    "\n",
    "print(s.ndim)\n",
    "\n",
    "# 0\n",
    "\n",
    "# 1\n",
    "\n",
    "# 2\n",
    "\n",
    "# 3"
   ]
  },
  {
   "cell_type": "markdown",
   "metadata": {},
   "source": [
    " 13.  Point out the wrong statement.\n",
    "\n",
    " A DataFrame is like a fixed-size dict in that you can get and set values by index label\n",
    "\n",
    " Series can be be passed into most NumPy methods expecting an ndarray\n",
    "\n",
    " A key difference between Series and ndarray is that operations between Series automatically align the data based on label\n",
    "\n",
    " None of the mentioned\n",
    "\n",
    " --> A is wrong -> A **Series** is like a fixed-size dict in that you can get and set values by index label\n",
    " \n",
    " From https://www.sanfoundry.com/data-science-questions-answers-pandas-data-structure/ \n",
    " \n",
    " and read https://www.sanfoundry.com/data-science-questions-answers-pandas-data-structure/"
   ]
  },
  {
   "cell_type": "markdown",
   "metadata": {},
   "source": [
    "14. In pandas, Index values must be?\n",
    "\n",
    " unique\n",
    "\n",
    " hashable\n",
    "\n",
    " Both A and B\n",
    "\n",
    " None of the above\n",
    "\n",
    "--> Both A and B from https://letsfindcourse.com/data-science/python-pandas-mcq-questions"
   ]
  },
  {
   "cell_type": "code",
   "execution_count": 33,
   "metadata": {},
   "outputs": [
    {
     "name": "stdout",
     "output_type": "stream",
     "text": [
      "Enter a string: hello123 %^ 20rld\n",
      "letters: 8 digits: 5 special: 2\n"
     ]
    }
   ],
   "source": [
    "# 15. Write a program that accepts a sentence and calculate the number of letters, digits and special characters.\n",
    "\n",
    "# input: hello world! 123\n",
    "# Output: letters: 10 digits: 3 special: 1\n",
    "\n",
    "# Paste you program in the box.\n",
    "\n",
    "input_str=input('Enter a string: ')\n",
    "letters_count=0\n",
    "digits_count=0\n",
    "specials_count=0\n",
    "for i in input_str:\n",
    "    if i.isdigit():\n",
    "        digits_count += 1\n",
    "    elif i.isalpha():\n",
    "        letters_count += 1\n",
    "    elif not i.isspace():\n",
    "        specials_count += 1\n",
    "        \n",
    "print(f'letters: {letters_count} digits: {digits_count} special: {specials_count}')"
   ]
  },
  {
   "cell_type": "code",
   "execution_count": 3,
   "metadata": {},
   "outputs": [
    {
     "name": "stdout",
     "output_type": "stream",
     "text": [
      "Enter a digit: 5\n",
      "6170\n"
     ]
    }
   ],
   "source": [
    "# * 16. a is input from the user. Write a program that computes the value of a+aa+aaa+aaaa with a given digit as the value of a.\n",
    "\n",
    "# Input: 9\n",
    "# Output: 11106\n",
    "\n",
    "input_digit = int(input('Enter a digit: '))\n",
    "print(input_digit + int(str(input_digit)*2) + int(str(input_digit)*3) + int(str(input_digit)*4))"
   ]
  },
  {
   "cell_type": "code",
   "execution_count": 38,
   "metadata": {},
   "outputs": [
    {
     "name": "stdout",
     "output_type": "stream",
     "text": [
      "Enter comma separated numbers: 1,2,3,4,5,6,7,8,9\n",
      "[1, 9, 25, 49, 81]\n"
     ]
    }
   ],
   "source": [
    "# 17. Use a list comprehension to square each odd number in a list. The list is input by a sequence of comma-separated numbers.\n",
    "\n",
    "# Input: 1,2,3,4,5,6,7,8,9\n",
    "# Output: 1,9, 25, 49, 81\n",
    "\n",
    "input_str=input('Enter comma separated numbers: ')\n",
    "out_lst=[int(i)**2 for i in input_str.split(\",\") if int(i)%2!=0]\n",
    "print(out_lst)"
   ]
  },
  {
   "cell_type": "code",
   "execution_count": 42,
   "metadata": {},
   "outputs": [
    {
     "name": "stdout",
     "output_type": "stream",
     "text": [
      "[9, 5, 15]\n"
     ]
    }
   ],
   "source": [
    "# 18. Given a list of numbers, write a Python program to print all odd numbers in given list.\n",
    "# Input: list1 = [2, 9, 5, 64, 15,10]\n",
    "# Output: [9, 5,15]\n",
    "\n",
    "list1 = [2, 9, 5, 64, 15,10]\n",
    "print([i for i in list1 if i%2!=0])"
   ]
  },
  {
   "cell_type": "markdown",
   "metadata": {},
   "source": [
    "### Result: stored as html file in same folder"
   ]
  }
 ],
 "metadata": {
  "kernelspec": {
   "display_name": "Python 3",
   "language": "python",
   "name": "python3"
  },
  "language_info": {
   "codemirror_mode": {
    "name": "ipython",
    "version": 3
   },
   "file_extension": ".py",
   "mimetype": "text/x-python",
   "name": "python",
   "nbconvert_exporter": "python",
   "pygments_lexer": "ipython3",
   "version": "3.6.5"
  }
 },
 "nbformat": 4,
 "nbformat_minor": 5
}
