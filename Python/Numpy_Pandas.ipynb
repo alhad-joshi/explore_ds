{
 "cells": [
  {
   "cell_type": "markdown",
   "id": "29f69f14",
   "metadata": {},
   "source": [
    "### Alhad Joshi | alhad.coep@gmail.com | +919980820403 | 26th Sept 2021 Morning Batch\n",
    "### Numpy|Pandas assignment"
   ]
  },
  {
   "cell_type": "code",
   "execution_count": 2,
   "id": "381c9c31",
   "metadata": {},
   "outputs": [],
   "source": [
    "import numpy as np"
   ]
  },
  {
   "cell_type": "code",
   "execution_count": 5,
   "id": "8f74f07a",
   "metadata": {},
   "outputs": [
    {
     "data": {
      "text/plain": [
       "array([10,  9,  8,  7,  6,  5,  4,  3,  2,  1,  0])"
      ]
     },
     "execution_count": 5,
     "metadata": {},
     "output_type": "execute_result"
    }
   ],
   "source": [
    "# Write a Python program to reverse an array\n",
    "# (first element becomes last).\n",
    "arr1 = np.arange(11)\n",
    "arr1 = arr1[::-1]\n",
    "arr1"
   ]
  },
  {
   "cell_type": "code",
   "execution_count": 8,
   "id": "2a660b18",
   "metadata": {},
   "outputs": [
    {
     "name": "stdout",
     "output_type": "stream",
     "text": [
      "[1 2 3 4 5] [1 2 3 4 5]\n"
     ]
    }
   ],
   "source": [
    "# Read ==> https://stackoverflow.com/questions/14415741/what-is-the-difference-between-numpys-array-and-asarray-functions\n",
    "# Write a Python program to convert a list and tuple into arrays.\n",
    "lst = [1,2,3,4,5]\n",
    "tpl = (1,2,3,4,5)\n",
    "lst_arr = np.array(lst)\n",
    "tpl_arr = np.array(tpl)\n",
    "print(lst_arr, tpl_arr)"
   ]
  },
  {
   "cell_type": "code",
   "execution_count": 11,
   "id": "bd4a30b5",
   "metadata": {},
   "outputs": [
    {
     "data": {
      "text/plain": [
       "array([ 5,  6,  7,  8,  9, 10])"
      ]
     },
     "execution_count": 11,
     "metadata": {},
     "output_type": "execute_result"
    }
   ],
   "source": [
    "# Write a Python program to find common values between two arrays.\n",
    "arr1 = np.arange(11)\n",
    "arr2 = np.arange(5, 17)\n",
    "np.intersect1d(arr1, arr2)"
   ]
  },
  {
   "cell_type": "code",
   "execution_count": 19,
   "id": "ab809e7a",
   "metadata": {},
   "outputs": [
    {
     "name": "stdout",
     "output_type": "stream",
     "text": [
      "a > b\n",
      "[False False]\n",
      "a >= b\n",
      "[False  True]\n",
      "a < b\n",
      "[ True False]\n",
      "a <= b\n",
      "[ True  True]\n"
     ]
    }
   ],
   "source": [
    "# Write a Python program compare two arrays using numpy.\n",
    "# a = np.arange(11)\n",
    "# b = np.arange(5, 17)\n",
    "# print(\"a > b\")\n",
    "# print(np.greater(a,b)) --> ValueError: operands could not be broadcast together with shapes (11,) (12,) \n",
    "\n",
    "a = np.array([1, 2])\n",
    "b = np.array([3, 2])\n",
    "print(\"a > b\")\n",
    "print(np.greater(a,b))\n",
    "print(\"a >= b\")\n",
    "print(np.greater_equal(a,b))\n",
    "print(\"a < b\")\n",
    "print(np.less(a,b))\n",
    "print(\"a <= b\")\n",
    "print(np.less_equal(a,b))"
   ]
  },
  {
   "cell_type": "code",
   "execution_count": 22,
   "id": "e7a1522d",
   "metadata": {},
   "outputs": [
    {
     "data": {
      "text/plain": [
       "array([[0, 1, 2, 3, 4],\n",
       "       [5, 6, 7, 8, 9]])"
      ]
     },
     "execution_count": 22,
     "metadata": {},
     "output_type": "execute_result"
    }
   ],
   "source": [
    "# Write a Python program to change the dimension of an array.\n",
    "a = np.arange(10)\n",
    "a = a.reshape(2,5)\n",
    "a"
   ]
  },
  {
   "cell_type": "code",
   "execution_count": 27,
   "id": "f3ae8db5",
   "metadata": {},
   "outputs": [
    {
     "name": "stdout",
     "output_type": "stream",
     "text": [
      "[ 0  3  6  9 12 15 18 21 24 27 30 33 36 39 42 45 48 51 54 57 60 63 66 69\n",
      " 72 75 78 81 84 87 90 93 96 99]\n",
      "[  0   5  10  15  20  25  30  35  40  45  50  55  60  65  70  75  80  85\n",
      "  90  95 100]\n"
     ]
    },
    {
     "data": {
      "text/plain": [
       "2418"
      ]
     },
     "execution_count": 27,
     "metadata": {},
     "output_type": "execute_result"
    }
   ],
   "source": [
    "# Write a Python program (using numpy) to sum of all the multiples of 3 or 5 below 100.\n",
    "arr_3 = np.arange(0,101,3)\n",
    "arr_5 = np.arange(0,101,5)\n",
    "print(arr_3)\n",
    "print(arr_5)\n",
    "np.sum(np.union1d(arr_3, arr_5))"
   ]
  },
  {
   "cell_type": "code",
   "execution_count": 30,
   "id": "e6b31e48",
   "metadata": {},
   "outputs": [
    {
     "data": {
      "text/plain": [
       "[0, 1, 2, 3, 4, 5, 6, 7, 8, 9, 10]"
      ]
     },
     "execution_count": 30,
     "metadata": {},
     "output_type": "execute_result"
    }
   ],
   "source": [
    "# Write a Python program to convert a NumPy array into Python list structure.\n",
    "arr1.tolist()"
   ]
  },
  {
   "cell_type": "code",
   "execution_count": 39,
   "id": "bbc0b62a",
   "metadata": {},
   "outputs": [
    {
     "name": "stdout",
     "output_type": "stream",
     "text": [
      "(2, 3)\n",
      "(2, 1)\n",
      "[ 10  20  30  40  50  60 100 200]\n",
      "[[ 10  20  30 100]\n",
      " [ 40  50  60 200]]\n"
     ]
    }
   ],
   "source": [
    "# Write a Python program to how to add an extra column to a numpy array.\n",
    "x = np.array([[10,20,30], [40,50,60]])\n",
    "print(x.shape)\n",
    "y = np.array([[100], [200]])\n",
    "print(y.shape)\n",
    "print(np.append(x,y)) # --> flattens if axis not given\n",
    "# print(np.append(x,y,axis=0))\n",
    "print(np.append(x,y,axis=1))"
   ]
  },
  {
   "cell_type": "code",
   "execution_count": 46,
   "id": "523af7b8",
   "metadata": {},
   "outputs": [
    {
     "data": {
      "text/plain": [
       "False"
      ]
     },
     "execution_count": 46,
     "metadata": {},
     "output_type": "execute_result"
    }
   ],
   "source": [
    "# Write a Python program to check whether the numpy array is empty or not.\n",
    "# np.empty((3,2,2))\n",
    "arr1.size==0"
   ]
  },
  {
   "cell_type": "code",
   "execution_count": 63,
   "id": "df885a55",
   "metadata": {},
   "outputs": [
    {
     "name": "stdout",
     "output_type": "stream",
     "text": [
      "[[0.06088326 0.27385923 0.80612721]\n",
      " [0.09467008 0.88872033 0.39290966]\n",
      " [0.714813   0.30262218 0.38671941]]\n"
     ]
    },
    {
     "data": {
      "text/plain": [
       "array([[0.        , 0.25726798, 0.90023022],\n",
       "       [0.04081337, 1.        , 0.40107698],\n",
       "       [0.78992566, 0.29201268, 0.39359937]])"
      ]
     },
     "execution_count": 63,
     "metadata": {},
     "output_type": "execute_result"
    }
   ],
   "source": [
    "# Write a Python program to normalize a 3x3 random matrix.\n",
    "# np.random.random() # gives 1 number\n",
    "x = np.random.random((3,3))\n",
    "print(x)\n",
    "xmax, xmin = x.max(), x.min()\n",
    "x = (x - xmin)/(xmax - xmin)\n",
    "x"
   ]
  },
  {
   "cell_type": "code",
   "execution_count": 62,
   "id": "bd631ca2",
   "metadata": {},
   "outputs": [
    {
     "name": "stdout",
     "output_type": "stream",
     "text": [
      "[[0.52389317 0.46573833 0.09995299]\n",
      " [0.42073721 0.56662416 0.55351394]\n",
      " [0.28462725 0.77435834 0.50026171]]\n"
     ]
    },
    {
     "ename": "TypeError",
     "evalue": "_vhstack_dispatcher() takes 1 positional argument but 2 were given",
     "output_type": "error",
     "traceback": [
      "\u001b[1;31m---------------------------------------------------------------------------\u001b[0m",
      "\u001b[1;31mTypeError\u001b[0m                                 Traceback (most recent call last)",
      "\u001b[1;32m<ipython-input-62-802cb6389844>\u001b[0m in \u001b[0;36m<module>\u001b[1;34m\u001b[0m\n\u001b[0;32m      3\u001b[0m \u001b[0mprint\u001b[0m\u001b[1;33m(\u001b[0m\u001b[0mx\u001b[0m\u001b[1;33m)\u001b[0m\u001b[1;33m\u001b[0m\u001b[1;33m\u001b[0m\u001b[0m\n\u001b[0;32m      4\u001b[0m \u001b[0my\u001b[0m\u001b[1;33m=\u001b[0m\u001b[0mx\u001b[0m\u001b[1;33m[\u001b[0m\u001b[1;33m:\u001b[0m\u001b[1;33m]\u001b[0m\u001b[1;33m[\u001b[0m\u001b[1;36m1\u001b[0m\u001b[1;33m]\u001b[0m\u001b[1;33m\u001b[0m\u001b[1;33m\u001b[0m\u001b[0m\n\u001b[1;32m----> 5\u001b[1;33m \u001b[0mprint\u001b[0m\u001b[1;33m(\u001b[0m\u001b[0mnp\u001b[0m\u001b[1;33m.\u001b[0m\u001b[0mvstack\u001b[0m\u001b[1;33m(\u001b[0m\u001b[0my\u001b[0m\u001b[1;33m,\u001b[0m \u001b[0mx\u001b[0m\u001b[1;33m[\u001b[0m\u001b[1;33m:\u001b[0m\u001b[1;33m]\u001b[0m\u001b[1;33m[\u001b[0m\u001b[1;36m2\u001b[0m\u001b[1;33m]\u001b[0m\u001b[1;33m)\u001b[0m\u001b[1;33m)\u001b[0m\u001b[1;33m\u001b[0m\u001b[1;33m\u001b[0m\u001b[0m\n\u001b[0m",
      "\u001b[1;32m<__array_function__ internals>\u001b[0m in \u001b[0;36mvstack\u001b[1;34m(*args, **kwargs)\u001b[0m\n",
      "\u001b[1;31mTypeError\u001b[0m: _vhstack_dispatcher() takes 1 positional argument but 2 were given"
     ]
    }
   ],
   "source": [
    "# How to swap two rows of an array?\n",
    "x = np.random.random((3,3))\n",
    "print(x)\n",
    "y=x[:][1]\n",
    "print(np.vstack(y, x[:][2]))"
   ]
  }
 ],
 "metadata": {
  "kernelspec": {
   "display_name": "Python 3",
   "language": "python",
   "name": "python3"
  },
  "language_info": {
   "codemirror_mode": {
    "name": "ipython",
    "version": 3
   },
   "file_extension": ".py",
   "mimetype": "text/x-python",
   "name": "python",
   "nbconvert_exporter": "python",
   "pygments_lexer": "ipython3",
   "version": "3.8.8"
  }
 },
 "nbformat": 4,
 "nbformat_minor": 5
}
