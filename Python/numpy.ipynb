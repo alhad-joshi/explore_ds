{
 "cells": [
  {
   "cell_type": "code",
   "execution_count": 38,
   "id": "e545e011",
   "metadata": {},
   "outputs": [
    {
     "name": "stdout",
     "output_type": "stream",
     "text": [
      "Requirement already satisfied: numpy in c:\\users\\ngc_2\\anaconda3\\lib\\site-packages (1.20.1)\n"
     ]
    }
   ],
   "source": [
    "!pip install numpy"
   ]
  },
  {
   "cell_type": "code",
   "execution_count": 3,
   "id": "149438df",
   "metadata": {},
   "outputs": [
    {
     "data": {
      "text/plain": [
       "array([1, 2, 3, 4])"
      ]
     },
     "execution_count": 3,
     "metadata": {},
     "output_type": "execute_result"
    }
   ],
   "source": [
    "import numpy as np\n",
    "np.array([1,2,3,4])"
   ]
  },
  {
   "cell_type": "code",
   "execution_count": 33,
   "id": "9ac542e5",
   "metadata": {},
   "outputs": [
    {
     "name": "stdout",
     "output_type": "stream",
     "text": [
      "2\n",
      "[[1 3]\n",
      " [3 5]]\n",
      "[[1 0]\n",
      " [1 0]]\n",
      "[[0 3]\n",
      " [2 5]]\n"
     ]
    }
   ],
   "source": [
    "np_arr = np.array([[1,2],[3,4]])\n",
    "print(np_arr.ndim)\n",
    "print(np_arr|1) # bitwise operation on np array is possible\n",
    "print(np_arr&1)\n",
    "print(np_arr^1)"
   ]
  },
  {
   "cell_type": "code",
   "execution_count": 12,
   "id": "a08507a9",
   "metadata": {},
   "outputs": [
    {
     "name": "stdout",
     "output_type": "stream",
     "text": [
      "[[[1 2]\n",
      "  [3 4]]]\n"
     ]
    },
    {
     "data": {
      "text/plain": [
       "3"
      ]
     },
     "execution_count": 12,
     "metadata": {},
     "output_type": "execute_result"
    }
   ],
   "source": [
    "new_arr = np_arr.reshape(1,2,2)\n",
    "print(new_arr)\n",
    "new_arr.ndim"
   ]
  },
  {
   "cell_type": "code",
   "execution_count": 22,
   "id": "299e00d6",
   "metadata": {},
   "outputs": [
    {
     "name": "stdout",
     "output_type": "stream",
     "text": [
      "shape= (1, 2, 2, 1)\n"
     ]
    },
    {
     "data": {
      "text/plain": [
       "array([[[1, 2],\n",
       "        [3, 4]]])"
      ]
     },
     "execution_count": 22,
     "metadata": {},
     "output_type": "execute_result"
    }
   ],
   "source": [
    "new_arr_1 = np_arr.reshape(1,2,-1)\n",
    "print('shape=', new_arr_2.shape)\n",
    "new_arr_1"
   ]
  },
  {
   "cell_type": "code",
   "execution_count": 21,
   "id": "4d597c85",
   "metadata": {},
   "outputs": [
    {
     "name": "stdout",
     "output_type": "stream",
     "text": [
      "shape= (1, 2, 2, 1)\n",
      "[[[[1]\n",
      "   [2]]\n",
      "\n",
      "  [[3]\n",
      "   [4]]]]\n"
     ]
    },
    {
     "data": {
      "text/plain": [
       "4"
      ]
     },
     "execution_count": 21,
     "metadata": {},
     "output_type": "execute_result"
    }
   ],
   "source": [
    "new_arr_2 = np_arr.reshape(1,2,2,-1)\n",
    "print('shape=', new_arr_2.shape)\n",
    "print(new_arr_2)\n",
    "new_arr_2.ndim"
   ]
  },
  {
   "cell_type": "code",
   "execution_count": 25,
   "id": "a2311d3a",
   "metadata": {},
   "outputs": [
    {
     "name": "stdout",
     "output_type": "stream",
     "text": [
      "shape= (1, 2, 2, 1, 1)\n",
      "[[[[[1]]\n",
      "\n",
      "   [[2]]]\n",
      "\n",
      "\n",
      "  [[[3]]\n",
      "\n",
      "   [[4]]]]]\n"
     ]
    },
    {
     "data": {
      "text/plain": [
       "5"
      ]
     },
     "execution_count": 25,
     "metadata": {},
     "output_type": "execute_result"
    }
   ],
   "source": [
    "new_arr_2 = np_arr.reshape(1,2,2,1,-1)\n",
    "print('shape=', new_arr_2.shape)\n",
    "print(new_arr_2)\n",
    "new_arr_2.ndim"
   ]
  },
  {
   "cell_type": "code",
   "execution_count": 27,
   "id": "b409ec82",
   "metadata": {},
   "outputs": [
    {
     "name": "stdout",
     "output_type": "stream",
     "text": [
      "shape= (1, 2, 2, 1, 1, 1)\n",
      "[[[[[[1]]]\n",
      "\n",
      "\n",
      "   [[[2]]]]\n",
      "\n",
      "\n",
      "\n",
      "  [[[[3]]]\n",
      "\n",
      "\n",
      "   [[[4]]]]]]\n"
     ]
    },
    {
     "data": {
      "text/plain": [
       "6"
      ]
     },
     "execution_count": 27,
     "metadata": {},
     "output_type": "execute_result"
    }
   ],
   "source": [
    "new_arr_2 = np_arr.reshape(1,2,2,1,1,-1)\n",
    "print('shape=', new_arr_2.shape)\n",
    "print(new_arr_2)\n",
    "new_arr_2.ndim"
   ]
  },
  {
   "cell_type": "code",
   "execution_count": 29,
   "id": "565b7da9",
   "metadata": {},
   "outputs": [
    {
     "name": "stdout",
     "output_type": "stream",
     "text": [
      "shape= (1, 2, 2, 1, 1, 1, 1)\n",
      "[[[[[[[1]]]]\n",
      "\n",
      "\n",
      "\n",
      "   [[[[2]]]]]\n",
      "\n",
      "\n",
      "\n",
      "\n",
      "  [[[[[3]]]]\n",
      "\n",
      "\n",
      "\n",
      "   [[[[4]]]]]]]\n"
     ]
    },
    {
     "data": {
      "text/plain": [
       "7"
      ]
     },
     "execution_count": 29,
     "metadata": {},
     "output_type": "execute_result"
    }
   ],
   "source": [
    "new_arr_2 = np_arr.reshape(1,2,2,1,1,1,-1)\n",
    "print('shape=', new_arr_2.shape)\n",
    "print(new_arr_2)\n",
    "new_arr_2.ndim"
   ]
  },
  {
   "cell_type": "code",
   "execution_count": 37,
   "id": "73a62462",
   "metadata": {},
   "outputs": [
    {
     "name": "stdout",
     "output_type": "stream",
     "text": [
      "[[1 2]\n",
      " [3 4]]\n",
      "\n",
      "\n",
      "[[1 2]\n",
      " [3 4]]\n",
      "\n",
      "\n",
      "[[1 2]\n",
      " [3 4]]\n",
      "\n",
      "\n",
      "[1 2 3 4]\n"
     ]
    }
   ],
   "source": [
    "print(np_arr)\n",
    "print(\"\\n\")\n",
    "print(np.sort(np_arr,axis=0)) # axis=0 is default\n",
    "print(\"\\n\")\n",
    "print(np.sort(np_arr,axis=1))\n",
    "print(\"\\n\")\n",
    "print(np.sort(np_arr,axis=None))"
   ]
  }
 ],
 "metadata": {
  "kernelspec": {
   "display_name": "Python 3",
   "language": "python",
   "name": "python3"
  },
  "language_info": {
   "codemirror_mode": {
    "name": "ipython",
    "version": 3
   },
   "file_extension": ".py",
   "mimetype": "text/x-python",
   "name": "python",
   "nbconvert_exporter": "python",
   "pygments_lexer": "ipython3",
   "version": "3.8.8"
  }
 },
 "nbformat": 4,
 "nbformat_minor": 5
}
