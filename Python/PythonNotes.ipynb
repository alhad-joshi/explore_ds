{
 "cells": [
  {
   "cell_type": "markdown",
   "metadata": {},
   "source": [
    "### Alhad Joshi | alhad.coep@gmail.com | +919980820403 | 26th Sept 2021 Morning Batch\n",
    "### Week X - Python notes"
   ]
  },
  {
   "cell_type": "code",
   "execution_count": 1,
   "metadata": {},
   "outputs": [
    {
     "data": {
      "text/plain": [
       "[1, 4, 27, 16, 125, 36, 343, 64, 729, 100]"
      ]
     },
     "execution_count": 1,
     "metadata": {},
     "output_type": "execute_result"
    }
   ],
   "source": [
    "[i**2 if i%2==0 else i**3 for i in range(1,11)] # min = a if a < b else b - [var=val1 if cond else val2]"
   ]
  },
  {
   "cell_type": "code",
   "execution_count": 2,
   "metadata": {},
   "outputs": [
    {
     "data": {
      "text/plain": [
       "['bc@d.com', 'def@gh.com']"
      ]
     },
     "execution_count": 2,
     "metadata": {},
     "output_type": "execute_result"
    }
   ],
   "source": [
    "lst = ['a@b.com', 'bc@d.com', 'def@gh.com', 'd@n.com']\n",
    "[email for email in lst if email.index('@')>1]"
   ]
  },
  {
   "cell_type": "code",
   "execution_count": 3,
   "metadata": {},
   "outputs": [
    {
     "data": {
      "text/plain": [
       "[['a@b.com', 'a'], ['bc@d.com', 'bc'], ['def@gh.com', 'def'], ['d@n.com', 'd']]"
      ]
     },
     "execution_count": 3,
     "metadata": {},
     "output_type": "execute_result"
    }
   ],
   "source": [
    "lst_name = ['a', 'bc', 'def', 'd']\n",
    "# [list(lst[index], lst_name[index]) for index,item in lst]\n",
    "#  [[lst[index], lst_name[index]] for index in lst]\n",
    "[[lst[i], lst_name[i]] for i in range(len(lst))]"
   ]
  },
  {
   "cell_type": "code",
   "execution_count": 4,
   "metadata": {},
   "outputs": [
    {
     "data": {
      "text/plain": [
       "['P', 'y', 't', 'h', 'o', 'n']"
      ]
     },
     "execution_count": 4,
     "metadata": {},
     "output_type": "execute_result"
    }
   ],
   "source": [
    "list('Python')"
   ]
  },
  {
   "cell_type": "code",
   "execution_count": 5,
   "metadata": {},
   "outputs": [
    {
     "name": "stdout",
     "output_type": "stream",
     "text": [
      "<class 'list'>\n"
     ]
    },
    {
     "data": {
      "text/plain": [
       "['P', 'y', 't', 'h', 'o', 'n']"
      ]
     },
     "execution_count": 5,
     "metadata": {},
     "output_type": "execute_result"
    }
   ],
   "source": [
    "# list = ['Python'] # don't execute this, changes the inbuilt list object, if that happens comment it and restart the kernal\n",
    "print(list)\n",
    "list('Python')"
   ]
  },
  {
   "cell_type": "code",
   "execution_count": 6,
   "metadata": {},
   "outputs": [
    {
     "data": {
      "text/plain": [
       "[(0, 'P'), (1, 'y'), (2, 't'), (3, 'h'), (4, 'o'), (5, 'n')]"
      ]
     },
     "execution_count": 6,
     "metadata": {},
     "output_type": "execute_result"
    }
   ],
   "source": [
    "list(enumerate('Python'))"
   ]
  },
  {
   "cell_type": "code",
   "execution_count": 7,
   "metadata": {},
   "outputs": [
    {
     "data": {
      "text/plain": [
       "[(5, 'c'), (6, 'l'), (7, 'a'), (8, 's'), (9, 's')]"
      ]
     },
     "execution_count": 7,
     "metadata": {},
     "output_type": "execute_result"
    }
   ],
   "source": [
    "list(enumerate('class', 5))"
   ]
  },
  {
   "cell_type": "code",
   "execution_count": 8,
   "metadata": {},
   "outputs": [
    {
     "data": {
      "text/plain": [
       "[(0, 1), (1, 2), (2, 3), (3, 4)]"
      ]
     },
     "execution_count": 8,
     "metadata": {},
     "output_type": "execute_result"
    }
   ],
   "source": [
    "list(enumerate(range(1,5)))"
   ]
  },
  {
   "cell_type": "code",
   "execution_count": 9,
   "metadata": {},
   "outputs": [],
   "source": [
    "z = zip('Python3', 'class')"
   ]
  },
  {
   "cell_type": "code",
   "execution_count": 10,
   "metadata": {},
   "outputs": [
    {
     "data": {
      "text/plain": [
       "{'P': 'c', 'y': 'l', 't': 'a', 'h': 's', 'o': 's'}"
      ]
     },
     "execution_count": 10,
     "metadata": {},
     "output_type": "execute_result"
    }
   ],
   "source": [
    "dict(z) # note that only string object with lowest length is considered, extra chars in longer str are discarded(like n3 in Python3 here)\n",
    "# seems like zip object once consumed, can not be reused, try running above cell and then this cell twice, 2nd run gives empty dict"
   ]
  },
  {
   "cell_type": "code",
   "execution_count": 11,
   "metadata": {},
   "outputs": [
    {
     "data": {
      "text/plain": [
       "[]"
      ]
     },
     "execution_count": 11,
     "metadata": {},
     "output_type": "execute_result"
    }
   ],
   "source": [
    "list(z) # executing twice after running z=... cell above -> first run gives list, 2nd run gives empty list"
   ]
  },
  {
   "cell_type": "code",
   "execution_count": 12,
   "metadata": {},
   "outputs": [
    {
     "name": "stdout",
     "output_type": "stream",
     "text": [
      "Enter marks obtained by student(should be between 0-100):6\n",
      "Avg Student\n"
     ]
    }
   ],
   "source": [
    "marks = int(input(\"Enter marks obtained by student(should be between 0-100):\"))\n",
    "if marks < 0 or marks > 100:\n",
    "    print ('Invalid input!')\n",
    "elif 90 < marks <= 100: #and marks > 90:\n",
    "    print('A')\n",
    "elif marks <= 90 and marks > 80:\n",
    "    print('B')\n",
    "else:\n",
    "    print('Avg Student')"
   ]
  },
  {
   "cell_type": "code",
   "execution_count": 13,
   "metadata": {},
   "outputs": [
    {
     "name": "stdout",
     "output_type": "stream",
     "text": [
      "Enter 3 numbers separated by space3 4 5\n",
      "F\n"
     ]
    }
   ],
   "source": [
    "# Grade based on avg of 3 subjects\n",
    "a,b,c = [int(i) for i in input('Enter 3 numbers separated by space').split()]\n",
    "avg_marks = (a + b + c)//3 #using floor division(?)\n",
    "if avg_marks < 0 or avg_marks > 100:\n",
    "    print ('Invalid input!')\n",
    "elif 90 < avg_marks <= 100: #and marks > 90:\n",
    "    print('A')\n",
    "elif avg_marks <= 90 and avg_marks > 80:\n",
    "    print('B')\n",
    "elif 70 < avg_marks <= 80:\n",
    "    print('C')\n",
    "elif 60 < avg_marks <= 70:\n",
    "    print('D')\n",
    "elif 50 < avg_marks <= 60:\n",
    "    print('E')\n",
    "else:\n",
    "    print('F')"
   ]
  },
  {
   "cell_type": "code",
   "execution_count": 14,
   "metadata": {},
   "outputs": [
    {
     "name": "stdout",
     "output_type": "stream",
     "text": [
      "True\n",
      "True\n",
      "False\n"
     ]
    }
   ],
   "source": [
    "print((1,2,3) < (1,3,2)) #why?\n",
    "print([1,2,3] < [1,3,2]) #why?\n",
    "print({1,2,3} < {1,3,2}) #why? and what is {} syntax? -> 'set', see next cell\n",
    "\n",
    "# Good tutorial on set -> https://www.datacamp.com/community/tutorials/sets-in-python?utm_source=adwords_ppc&utm_campaignid=1455363063&utm_adgroupid=65083631748&utm_device=c&utm_keyword=&utm_matchtype=b&utm_network=g&utm_adpostion=&utm_creative=278443377095&utm_targetid=aud-392016246653:dsa-429603003980&utm_loc_interest_ms=&utm_loc_physical_ms=9062097&gclid=Cj0KCQjwv5uKBhD6ARIsAGv9a-z2HsFcpT7idq4CT4fYGxMVxjbg8dUNl8K2p6NeBbicOl85NpsyXEEaAkAgEALw_wcB"
   ]
  },
  {
   "cell_type": "code",
   "execution_count": 15,
   "metadata": {},
   "outputs": [
    {
     "data": {
      "text/plain": [
       "set"
      ]
     },
     "execution_count": 15,
     "metadata": {},
     "output_type": "execute_result"
    }
   ],
   "source": [
    "a = {1,2}\n",
    "type(a)"
   ]
  },
  {
   "cell_type": "code",
   "execution_count": 16,
   "metadata": {},
   "outputs": [
    {
     "name": "stdout",
     "output_type": "stream",
     "text": [
      "Enter a singe char to check if its vowel or consonant:q\n",
      "consonant\n"
     ]
    }
   ],
   "source": [
    "char = input(\"Enter a singe char to check if its vowel or consonant:\")\n",
    "if not char.isalpha() or len(char) != 1:\n",
    "    print('Invalid input!')\n",
    "elif char in 'aeiouAEIOU': #elif char in ['a', 'e', 'i', 'o', 'u']:\n",
    "    print('vowel')\n",
    "else:\n",
    "    print('consonant')"
   ]
  },
  {
   "cell_type": "code",
   "execution_count": 17,
   "metadata": {},
   "outputs": [
    {
     "name": "stdout",
     "output_type": "stream",
     "text": [
      "Enter 3 numbers separated by space2 3 4\n"
     ]
    }
   ],
   "source": [
    "a,b,c = [int(i) for i in input('Enter 3 numbers separated by space').split()]"
   ]
  },
  {
   "cell_type": "code",
   "execution_count": 18,
   "metadata": {},
   "outputs": [
    {
     "name": "stdout",
     "output_type": "stream",
     "text": [
      "Enter number of calls:233\n",
      "Total bill is 268.2\n"
     ]
    }
   ],
   "source": [
    "# Print bill of customer, \n",
    "#    Minimum Rs. 200 if he makes call upto 100\n",
    "#    Plus Rs. 0.60 per call for next 50 calls.\n",
    "#    Plus Rs. 0.50 per call for next 50 calls.\n",
    "#    Plus Rs. 0.40 per call for any call beyond 200.\n",
    "############################################################\n",
    "# calls = int(input(\"Enter number of cells:\"))\n",
    "# bill = 0.0\n",
    "# if calls > 200:\n",
    "#     bill = (calls - 200) * 0.40 + 50 * 0.50 + 50 * 0.60 + 200\n",
    "# elif calls > 150:\n",
    "#     bill = (calls - 150) * 0.50 + 50 * 0.60 + 200    \n",
    "# elif calls > 100:\n",
    "#     bill = (calls - 100) * 0.60 + 200\n",
    "# elif calls > 0:\n",
    "#     bill = 200\n",
    "# else:\n",
    "#     bill = 0\n",
    "# print(f'Your total bill is ${bill}')\n",
    "############################################################\n",
    "num_calls = int(input('Enter number of calls:'))\n",
    "if 0 < num_calls <= 100:\n",
    "    print(f'Total bill is {200}')\n",
    "elif 100 < num_calls <= 150:\n",
    "    print(f'Total bill is {200 + (num_calls - 100) * 0.60}') \n",
    "elif 150 < num_calls <= 200:\n",
    "    print(f'Total bill is {200 + (50 * 0.60) + (num_calls - 150) * 0.50}') \n",
    "elif 200 < num_calls:\n",
    "    print(f'Total bill is {200 + (50 * 0.60) + (50 * 0.50) + (num_calls - 200) * 0.40}') \n",
    "else:\n",
    "    print('Invalid input!')\n"
   ]
  },
  {
   "cell_type": "code",
   "execution_count": 19,
   "metadata": {},
   "outputs": [
    {
     "name": "stdout",
     "output_type": "stream",
     "text": [
      "False\n",
      "True\n"
     ]
    }
   ],
   "source": [
    "a = 3 + 4j\n",
    "b = 3 + 4j\n",
    "print(a is b) #False because object reusability not there for complex numbers, floats, derived(?) data types\n",
    "c = 10\n",
    "d = 10\n",
    "print(c is d)"
   ]
  },
  {
   "cell_type": "code",
   "execution_count": 20,
   "metadata": {},
   "outputs": [
    {
     "name": "stdout",
     "output_type": "stream",
     "text": [
      "Input any number:a\n",
      "True <class 'bool'>\n"
     ]
    }
   ],
   "source": [
    "a = bool(input('Input any number:')) # gives false only if we don't enter anything and just press enter\n",
    "print(a, type(a))"
   ]
  },
  {
   "cell_type": "code",
   "execution_count": 21,
   "metadata": {},
   "outputs": [
    {
     "name": "stdout",
     "output_type": "stream",
     "text": [
      "2\n",
      "1\n",
      "0\n",
      "0\n",
      "1\n",
      "-1\n",
      "0\n"
     ]
    }
   ],
   "source": [
    "# True is 1\n",
    "# False is 0\n",
    "\n",
    "print(True + True) # 2\n",
    "print(True + False) # 1\n",
    "print(False + False) # 0\n",
    "print(True - True) # 0\n",
    "print(True - False) # 1\n",
    "print(False - True) # -1\n",
    "print(False - False) # 0\n",
    " \n",
    "# print(True * True) # 1\n",
    "# print(True * False) # 0\n",
    "# print(False * False) # 0\n",
    "# print(True / True) # 1.0\n",
    "# print(True / False) # ZeroDivisionError: division by zero\n",
    "#print(False / False) # ZeroDivisionError: division by zero\n"
   ]
  },
  {
   "cell_type": "code",
   "execution_count": 22,
   "metadata": {},
   "outputs": [
    {
     "data": {
      "text/plain": [
       "[1, False, [True, 2], 1]"
      ]
     },
     "execution_count": 22,
     "metadata": {},
     "output_type": "execute_result"
    }
   ],
   "source": [
    "# Good resource for del vs remove : https://www.csestack.org/difference-between-remove-del-pop-python-list/\n",
    "s1 = [1,2,False, [a,2,3], (1)]\n",
    "del s1[1]\n",
    "s1\n",
    "del s1[2][2] # now s1[2] is [a,2,3] as we did del above\n",
    "s1"
   ]
  },
  {
   "cell_type": "code",
   "execution_count": 23,
   "metadata": {},
   "outputs": [
    {
     "data": {
      "text/plain": [
       "(1, 2, [3, 0])"
      ]
     },
     "execution_count": 23,
     "metadata": {},
     "output_type": "execute_result"
    }
   ],
   "source": [
    "tpl = (1,2,[3,4])\n",
    "tpl[2][1]=0\n",
    "tpl"
   ]
  },
  {
   "cell_type": "code",
   "execution_count": 24,
   "metadata": {},
   "outputs": [
    {
     "name": "stdout",
     "output_type": "stream",
     "text": [
      "<class 'int'>\n",
      "<class 'tuple'>\n",
      "<class 'tuple'>\n"
     ]
    }
   ],
   "source": [
    "a = (10)\n",
    "print(type(a))\n",
    "a = (10,)\n",
    "print(type(a))\n",
    "a = (10,20)\n",
    "print(type(a))"
   ]
  },
  {
   "cell_type": "code",
   "execution_count": 25,
   "metadata": {},
   "outputs": [
    {
     "data": {
      "text/plain": [
       "['apple', 'Pineapple', 'custard apple', ' Apple']"
      ]
     },
     "execution_count": 25,
     "metadata": {},
     "output_type": "execute_result"
    }
   ],
   "source": [
    "fruits = ['apple', 'Pineapple', 'custard apple', 'mango', ' Apple']\n",
    "[i for i in fruits if 'apple' in i.lower()]\n",
    "# [i if 'apple' in i.lower() for i in fruits]"
   ]
  },
  {
   "cell_type": "code",
   "execution_count": 26,
   "metadata": {},
   "outputs": [
    {
     "data": {
      "text/plain": [
       "['Apple', 'Pineapple', 'Custard Apple', 'MANGO', ' Apple']"
      ]
     },
     "execution_count": 26,
     "metadata": {},
     "output_type": "execute_result"
    }
   ],
   "source": [
    "fruits = ['apple', 'Pineapple', 'custard apple', 'mango', ' Apple']\n",
    "[i.title() if 'apple' in i.lower() else i.upper() for i in fruits]"
   ]
  },
  {
   "cell_type": "markdown",
   "metadata": {},
   "source": [
    "## List comprehension syntax\n",
    "\n",
    "#### [output_of_if for loop if cond]\n",
    "fruits = ['apple', 'Pineapple', 'custard apple', 'mango', ' Apple']\n",
    "\n",
    "[i for i in fruits if 'apple' in i.lower()]\n",
    "\n",
    "#### [output_of_if if cond else output_of_else for_loop]\n",
    "[i.title() if 'apple' in i.lower() else i.upper() for i in fruits]"
   ]
  },
  {
   "cell_type": "code",
   "execution_count": 27,
   "metadata": {},
   "outputs": [
    {
     "data": {
      "text/plain": [
       "[10, 9, 8, 7, 2]"
      ]
     },
     "execution_count": 27,
     "metadata": {},
     "output_type": "execute_result"
    }
   ],
   "source": [
    "# Remove duplicates\n",
    "lst1=[10,9,8,8,7,2]\n",
    "lst2=[]\n",
    "[lst2.append(i) for i in lst1 if i not in lst2]\n",
    "lst2"
   ]
  },
  {
   "cell_type": "code",
   "execution_count": 28,
   "metadata": {},
   "outputs": [
    {
     "data": {
      "text/plain": [
       "[(9, 1), (2, 3), (5, 4), (5, 5), (7, 6), (5, 9)]"
      ]
     },
     "execution_count": 28,
     "metadata": {},
     "output_type": "execute_result"
    }
   ],
   "source": [
    "#Write a Python program to get a sorted list in increasing order of last element in each tuple in a given list using loop.\n",
    "#Input:- [(5,4),(9,1),(2,3),(5,9),(7,6),(5,5)]\n",
    "#output:- [(9,1),(2,3),(5,4),(5,5),(7,6),(5,9)]\n",
    "Input=[(5,4),(9,1),(2,3),(5,9),(7,6),(5,5)]\n",
    "Input.sort(key = lambda argument_ : argument_[1])\n",
    "Input"
   ]
  },
  {
   "cell_type": "code",
   "execution_count": 29,
   "metadata": {},
   "outputs": [
    {
     "name": "stdout",
     "output_type": "stream",
     "text": [
      "['much', 'wood', 'would', 'woodchuck', 'chuck', 'could']\n"
     ]
    },
    {
     "data": {
      "text/plain": [
       "['could', 'wood', 'would', 'much', 'chuck', 'woodchuck']"
      ]
     },
     "execution_count": 29,
     "metadata": {},
     "output_type": "execute_result"
    }
   ],
   "source": [
    "#Write a Python program to find the list of words that are longer than or equal to 4 from a given string.\n",
    "#Input:- 'How much wood would a woodchuck chuck if a woodchuck could chuck wood'\n",
    "#Output:- ['much', 'wood', 'would', 'woodchuck', 'chuck', 'could']\n",
    "#Note:- Duplicate should be avoided.\n",
    "Input='How much wood would a woodchuck chuck if a woodchuck could chuck wood'\n",
    "Output = []\n",
    "[Output.append(i) for i in Input.split() if len(i)>3 and i not in Output]\n",
    "print(Output)\n",
    "\n",
    "#Alternate solution - but this won't maintain order of words in original sentence\n",
    "[each for each in set(Input.split(' ')) if len(each) >= 4]"
   ]
  },
  {
   "cell_type": "code",
   "execution_count": 30,
   "metadata": {},
   "outputs": [
    {
     "name": "stdout",
     "output_type": "stream",
     "text": [
      "ssalc nohtyP si sihT\n"
     ]
    }
   ],
   "source": [
    "str_ = 'This is Python class'\n",
    "# None usage picked from https://stackoverflow.com/a/12522871/870834\n",
    "str1 = str_[len(str_)::-1] # OR --> See usage of None as end ---> str1 = str_[len(str_):None:-1]\n",
    "print(str1)"
   ]
  },
  {
   "cell_type": "code",
   "execution_count": 34,
   "metadata": {},
   "outputs": [
    {
     "name": "stdout",
     "output_type": "stream",
     "text": [
      "['aba', '1991']\n",
      "2\n"
     ]
    }
   ],
   "source": [
    "#Write a Python program to count the number of strings having length more than 2 and are palindrome in a list using loop.\\n\",\n",
    "#Input:- ['ab', 'abc', 'aba', 'xyz', '1991']\n",
    "Input = ['ab', 'abc', 'aba', 'xyz', '1991']\n",
    "Output = []\n",
    "[Output.append(i) for i in Input if len(i)>2 and i==i[::-1]]\n",
    "print(Output)\n",
    "print(len(Output))"
   ]
  },
  {
   "cell_type": "code",
   "execution_count": 32,
   "metadata": {},
   "outputs": [
    {
     "name": "stdout",
     "output_type": "stream",
     "text": [
      "<class 'dict'>\n",
      "<class 'set'>\n"
     ]
    }
   ],
   "source": [
    "# How to create empty set and empty dict\n",
    "print(type({}))\n",
    "print(type({''})) "
   ]
  },
  {
   "cell_type": "code",
   "execution_count": 33,
   "metadata": {},
   "outputs": [
    {
     "name": "stdout",
     "output_type": "stream",
     "text": [
      "{1: 'B'}\n"
     ]
    }
   ],
   "source": [
    "dict = {1:'A',True:'B'} # True=1, so key(1) is overwritten from 'A' to 'B'\n",
    "print(dict)"
   ]
  },
  {
   "cell_type": "code",
   "execution_count": 34,
   "metadata": {},
   "outputs": [],
   "source": [
    "#char > complex > float > int > bool"
   ]
  },
  {
   "cell_type": "code",
   "execution_count": 35,
   "metadata": {},
   "outputs": [
    {
     "data": {
      "text/plain": [
       "dict_keys"
      ]
     },
     "execution_count": 35,
     "metadata": {},
     "output_type": "execute_result"
    }
   ],
   "source": [
    "type(dict.keys())\n",
    "# dir(dict_keys) # NameError: name 'dict_keys' is not defined\n",
    "# interesting read on this error: https://stackoverflow.com/questions/43920587/what-is-the-explicit-python3-type-for-dict-keys-for-isinstance-check"
   ]
  },
  {
   "cell_type": "code",
   "execution_count": 36,
   "metadata": {},
   "outputs": [],
   "source": [
    "# dir(dir)"
   ]
  },
  {
   "cell_type": "code",
   "execution_count": 37,
   "metadata": {},
   "outputs": [
    {
     "name": "stdout",
     "output_type": "stream",
     "text": [
      "(1, 'B')\n",
      "1 \t B\n"
     ]
    }
   ],
   "source": [
    "for i in dict.items(): #pairs\n",
    "    print(i)\n",
    "for k,v in dict.items():\n",
    "    print(k, '\\t', v)"
   ]
  },
  {
   "cell_type": "code",
   "execution_count": 38,
   "metadata": {},
   "outputs": [],
   "source": [
    "# Comparision operations(except == and !=) are not supported for complex numbers, as j is imaginary value in complex nunmber so it can't be compared(??)\n",
    "# 1+2j < 1-2j #TypeError: '<' not supported between instances of 'complex' and 'complex'\n",
    "# 1+2j > 1-2j #TypeError: '>' not supported between instances of 'complex' and 'complex'\n",
    "# same for <= and >="
   ]
  },
  {
   "cell_type": "code",
   "execution_count": 39,
   "metadata": {},
   "outputs": [
    {
     "name": "stdout",
     "output_type": "stream",
     "text": [
      "True\n",
      "True\n"
     ]
    }
   ],
   "source": [
    "# See accepted answer => https://stackoverflow.com/questions/704152/how-can-i-convert-a-character-to-a-integer-in-python-and-viceversa\n",
    "str1 = 'A'\n",
    "str2 = '65'\n",
    "#Compare str1 and str2 using comparison operator and it should give below error.\n",
    "#Error: TypeError: '>=' not supported between instances of 'str' and 'int'\n",
    "# print(str1>=int(str2))\n",
    "#Compare str1 and str2 and print True using equality operator\n",
    "print(str1==chr(int(str2)))\n",
    "#OR\n",
    "print(str(ord(str1))==str2)"
   ]
  },
  {
   "cell_type": "code",
   "execution_count": 40,
   "metadata": {},
   "outputs": [
    {
     "name": "stdout",
     "output_type": "stream",
     "text": [
      "!\n",
      "!\n"
     ]
    }
   ],
   "source": [
    "print ((ord and chr)(0O041)) \n",
    "# (ord and chr) evaluates to chr as ord evaluates to True, 'and' operator goes to 2nd value!!!\n",
    "# so out put is actually (chr)(0O041)\n",
    "print ((chr)(0O041)) "
   ]
  },
  {
   "cell_type": "code",
   "execution_count": 42,
   "metadata": {},
   "outputs": [
    {
     "name": "stdout",
     "output_type": "stream",
     "text": [
      "Enter a number>=0 to find factorial:6\n",
      "720\n"
     ]
    }
   ],
   "source": [
    "num = int(input('Enter a number>=0 to find factorial:'))\n",
    "\n",
    "def my_factorial(num):\n",
    "    if num<0:\n",
    "        print('Invalid input, factorial not defined for -ve numbers!')\n",
    "    elif num == 0 or num == 1:\n",
    "        print(1)\n",
    "    else:\n",
    "        factorial = 1\n",
    "        while num > 0:\n",
    "            factorial = num * factorial\n",
    "            num = num - 1\n",
    "        print(factorial)\n",
    "        \n",
    "my_factorial(num)"
   ]
  },
  {
   "cell_type": "code",
   "execution_count": 48,
   "metadata": {},
   "outputs": [
    {
     "name": "stdout",
     "output_type": "stream",
     "text": [
      "6\n",
      "None\n"
     ]
    }
   ],
   "source": [
    "funct_1 = lambda x,y : print(x) if x > y else print(y)\n",
    "type(funct_1)\n",
    "max_num = funct_1(5,6)\n",
    "print(max_num)"
   ]
  },
  {
   "cell_type": "code",
   "execution_count": 52,
   "metadata": {},
   "outputs": [
    {
     "data": {
      "text/plain": [
       "[0, 1, 4, 27, 16, 125, 36, 343, 64, 729]"
      ]
     },
     "execution_count": 52,
     "metadata": {},
     "output_type": "execute_result"
    }
   ],
   "source": [
    "list(map(lambda x: x*x if x%2==0 else x*x*x, range(0,10)))"
   ]
  },
  {
   "cell_type": "code",
   "execution_count": 60,
   "metadata": {},
   "outputs": [
    {
     "data": {
      "text/plain": [
       "['bc', 'def']"
      ]
     },
     "execution_count": 60,
     "metadata": {},
     "output_type": "execute_result"
    }
   ],
   "source": [
    "lst = ['a@b.com', 'bc@d.com', 'def@gh.com', 'd@n.com']\n",
    "dir(str)\n",
    "list(map(lambda x: x.split('@')[0],list(filter(lambda x:x.index('@')>1, lst))))\n",
    "# another approach:\n",
    "#list(map(lambda y : y[:y.index('@')], filter(lambda x:len(x[:x.index('@')])>1, lst)))"
   ]
  },
  {
   "cell_type": "code",
   "execution_count": 64,
   "metadata": {},
   "outputs": [
    {
     "data": {
      "text/plain": [
       "['T', 'T', 'F', 'F', 'F', 'T', 'F']"
      ]
     },
     "execution_count": 64,
     "metadata": {},
     "output_type": "execute_result"
    }
   ],
   "source": [
    "lst = [('Abhishek', 'M'), ('Rahul', 'M'), ('Neha', 'F'), ('Anshu', 'F'), ('Lakshmi', 'F'),\n",
    "        ('Aniket', 'M'), ('Shweta', 'F')]\n",
    "list(map(lambda x:'T' if x[1]=='M' else 'F', lst))\n"
   ]
  },
  {
   "cell_type": "code",
   "execution_count": 66,
   "metadata": {},
   "outputs": [],
   "source": [
    "from functools import reduce"
   ]
  },
  {
   "cell_type": "code",
   "execution_count": 68,
   "metadata": {},
   "outputs": [
    {
     "data": {
      "text/plain": [
       "[7, 12, 15, 16, 15, 12, 7]"
      ]
     },
     "execution_count": 68,
     "metadata": {},
     "output_type": "execute_result"
    }
   ],
   "source": [
    "lst1 = [1,2,3,4,5,6,7]\n",
    "lst2 = [7,6,5,4,3,2,1]\n",
    "list(map(lambda n,m:n*m,lst1,lst2))"
   ]
  },
  {
   "cell_type": "code",
   "execution_count": 77,
   "metadata": {},
   "outputs": [
    {
     "name": "stdout",
     "output_type": "stream",
     "text": [
      "<class 'str_iterator'> 2412238736544 2412172044656\n",
      "<class 'str_iterator'> 2412238736784 2412172044656\n"
     ]
    }
   ],
   "source": [
    "str_1 = 'Python'\n",
    "iter_str = iter(str_1)\n",
    "print(type(iter_str), id(iter_str), id(str_1))\n",
    "str_1 = 'Python'\n",
    "iter_str = iter(str_1)\n",
    "print(type(iter_str), id(iter_str), id(str_1))\n",
    "# dir(str_iterator) # NameError: name 'str_iterator' is not defined ???"
   ]
  },
  {
   "cell_type": "code",
   "execution_count": 32,
   "metadata": {},
   "outputs": [
    {
     "name": "stdout",
     "output_type": "stream",
     "text": [
      "<_io.TextIOWrapper name='fileop_sample_input.py' mode='r' encoding='cp1252'> <class '_io.TextIOWrapper'>\n",
      "r\n",
      "False\n",
      "0\n",
      "<built-in method fileno of _io.TextIOWrapper object at 0x00000272B1511AD0>\n",
      "Hello\n",
      "123\n",
      "True\n",
      "r\n",
      "<built-in method fileno of _io.TextIOWrapper object at 0x00000272B1511AD0>\n"
     ]
    },
    {
     "ename": "NameError",
     "evalue": "name 'f' is not defined",
     "output_type": "error",
     "traceback": [
      "\u001b[1;31m---------------------------------------------------------------------------\u001b[0m",
      "\u001b[1;31mNameError\u001b[0m                                 Traceback (most recent call last)",
      "\u001b[1;32m<ipython-input-32-ebaab1872b83>\u001b[0m in \u001b[0;36m<module>\u001b[1;34m\u001b[0m\n\u001b[0;32m     18\u001b[0m \u001b[0mprint\u001b[0m\u001b[1;33m(\u001b[0m\u001b[0mf\u001b[0m\u001b[1;33m.\u001b[0m\u001b[0mfileno\u001b[0m\u001b[1;33m)\u001b[0m\u001b[1;33m\u001b[0m\u001b[1;33m\u001b[0m\u001b[0m\n\u001b[0;32m     19\u001b[0m \u001b[1;32mdel\u001b[0m \u001b[0mf\u001b[0m\u001b[1;33m\u001b[0m\u001b[1;33m\u001b[0m\u001b[0m\n\u001b[1;32m---> 20\u001b[1;33m \u001b[0mprint\u001b[0m\u001b[1;33m(\u001b[0m\u001b[0mf\u001b[0m\u001b[1;33m.\u001b[0m\u001b[0mfileno\u001b[0m\u001b[1;33m)\u001b[0m\u001b[1;33m\u001b[0m\u001b[1;33m\u001b[0m\u001b[0m\n\u001b[0m",
      "\u001b[1;31mNameError\u001b[0m: name 'f' is not defined"
     ]
    }
   ],
   "source": [
    "\n",
    "f = open('fileop_sample_input.py') # default mode is rear 'r'\n",
    "print(f, type(f))\n",
    "print(f.mode)\n",
    "print(f.closed)\n",
    "print(f.tell())\n",
    "print(f.fileno)\n",
    "# print(f'readline=\"{f.readline()}\"') # reads and prints newline!\n",
    "# print(f'readline=\"{f.readlines()}\"') # returns array with newline as part of line!\n",
    "# print(f.isatty()) #??? \n",
    "# f.read() \n",
    "print(f.read())\n",
    "# f.seek(0)\n",
    "# print(f'again:\\n{f.read()}') #empty if we dont do seek(0)!\n",
    "f.close()\n",
    "print(f.closed)\n",
    "# print(f.tell()) # ValueError: I/O operation on closed file.\n",
    "print(f.mode) # why this still returns 'r', even after closing???\n",
    "print(f.fileno)\n",
    "# del f\n",
    "# print(f.fileno)"
   ]
  },
  {
   "cell_type": "code",
   "execution_count": 26,
   "metadata": {},
   "outputs": [
    {
     "name": "stdout",
     "output_type": "stream",
     "text": [
      "208\n"
     ]
    }
   ],
   "source": [
    "# nice read len() vs sys.getsizeof() - https://stackoverflow.com/questions/17574076/what-is-the-difference-between-len-and-sys-getsizeof-methods-in-python#:~:text=Python%20string%20objects%20are%20not%20simple%20sequences%20of,the%20object%20is%20managed%20by%20the%20garbage%20collector.\n",
    "import sys\n",
    "print(sys.getsizeof(f))\n",
    "# print(len(f)) # TypeError: object of type '_io.TextIOWrapper' has no len()"
   ]
  },
  {
   "cell_type": "code",
   "execution_count": 27,
   "metadata": {},
   "outputs": [],
   "source": [
    "# Good read - https://stackoverflow.com/questions/16869024/what-is-pycache"
   ]
  },
  {
   "cell_type": "code",
   "execution_count": 35,
   "metadata": {},
   "outputs": [
    {
     "name": "stdout",
     "output_type": "stream",
     "text": [
      "__main__\n"
     ]
    }
   ],
   "source": [
    "print(__name__)"
   ]
  },
  {
   "cell_type": "code",
   "execution_count": 62,
   "metadata": {},
   "outputs": [
    {
     "name": "stdout",
     "output_type": "stream",
     "text": [
      "Solution to 1:\n",
      "total chars = 1362\n",
      "total words = 222\n",
      "total lines =  12\n",
      "--------------------------------------------------------------------------------\n",
      "\n",
      "Solution to 2:\n",
      "What is Lorem Ipsum?\n",
      "Lorem Ipsum is simply dummy text of the printing and typesetting industry. \n",
      "Lorem Ipsum has been the industry's standard dummy text ever since the 1500s, when an unknown printer took a galley of type and scrambled it to make a type specimen book. \n",
      "It has survived not only five centuries, but also the leap into electronic typesetting, remaining essentially unchanged. \n",
      "Welcome to Python class at Learnbay conducted in Bengaluru\n",
      "Welcome to Python class at Learnbay conducted in Bengaluru\n",
      "Welcome to Python class at Learnbay conducted in Bengaluru\n",
      "It was popularised in the 1960s with the release of Letraset sheets containing Lorem Ipsum passages, and more recently with desktop publishing software like Aldus PageMaker including versions of Lorem Ipsum.\n",
      "Why do we use it?\n",
      "It is a long established fact that a reader will be distracted by the readable content of a page when looking at its layout. \n",
      "The point of using Lorem Ipsum is that it has a more-or-less normal distribution of letters, as opposed to using 'Content here, content here', making it look like readable English. \n",
      "Many desktop publishing packages and web page editors now use Lorem Ipsum as their default model text, and a search for 'lorem ipsum' will uncover many web sites still in their infancy. \n",
      "Various versions have evolved over the years, sometimes by accident, sometimes on purpose (injected humour and the like).\n",
      "--------------------------------------------------------------------------------\n",
      "\n",
      "Solution to 3:\n"
     ]
    }
   ],
   "source": [
    "# 1. Find the total no of charcters, words and lines from the file.\n",
    "# 2. Add a line \"Welcome to Python class at Learnbay conducted in Bengaluru\" at line no 5 in the file. Do not repace the content\n",
    "# 3. Copy the content of python.jpeg to new.png\n",
    "\n",
    "print('Solution to 1:')\n",
    "with open('fileop_sample_input.txt', 'r') as f:\n",
    "    contents = f.read()\n",
    "    print(f'total chars = {f.tell()}')\n",
    "    print(f'total words = {len(contents.split())}')\n",
    "    f.seek(0)\n",
    "    print(f'total lines =  {len(f.readlines())}')\n",
    "print('-'*80)\n",
    "print()\n",
    "\n",
    "print('Solution to 2:') \n",
    "with open('fileop_sample_input.txt', 'r+') as f:\n",
    "    contents = f.readlines()\n",
    "    contents.insert(4, \"Welcome to Python class at Learnbay conducted in Bengaluru\\n\")\n",
    "    f.seek(0)\n",
    "    f.writelines(contents) # will add above string as many time as you run this cell!!!\n",
    "    f.seek(0)\n",
    "    print(f.read())\n",
    "print('-'*80)\n",
    "print()\n",
    "\n",
    "print('Solution to 3:')\n",
    "with open('python.jpeg', 'rb') as f1:\n",
    "    with open('python.png', 'wb') as f2:\n",
    "        f2.write(f1.read())"
   ]
  },
  {
   "cell_type": "markdown",
   "metadata": {},
   "source": [
    " ## File opening modes \n",
    " \n",
    " Source: https://stackoverflow.com/questions/1466000/difference-between-modes-a-a-w-w-and-r-in-built-in-open-function\n",
    " \n",
    " \n",
    " \n",
    " ``r''   Open text file for **reading**.  The stream is **positioned at the\n",
    "         beginning of the file**.\n",
    "\n",
    " ``r+''  Open for **reading and writing**.  The stream is **positioned at the\n",
    "         beginning of the file**.\n",
    "\n",
    " ``w''   **Truncate file to zero length** or create text file for writing.\n",
    "         The stream is **positioned at the beginning of the file**.\n",
    "\n",
    " ``w+''  Open for reading and writing.  **The file is created if it does not\n",
    "         exist, otherwise it is truncated**.  The stream is positioned at\n",
    "         the beginning of the file. (r+ won't create(?)/truncate the file)\n",
    "\n",
    " ``a''   Open for writing.  The file is created if it does not exist.  The\n",
    "         stream is positioned at the end of the file.  Subsequent writes\n",
    "         to the file will always end up at the then current end of file,\n",
    "         irrespective of any intervening fseek(3) or similar.\n",
    "         \n",
    " ``a+''  Open for reading and writing.  The file is created if it does not\n",
    "         exist.  The stream is positioned at the end of the file.  Subse-\n",
    "         quent writes to the file will always end up at the then current\n",
    "         end of file, irrespective of any intervening fseek(3) or similar.\n",
    "         (a+ = read + write at end always(even if seek is done) + file created if not present)"
   ]
  },
  {
   "cell_type": "markdown",
   "metadata": {},
   "source": [
    "### RegEx\n",
    "\n",
    "search ⇒ find something anywhere in the string and return a match object.\n",
    "\n",
    "match ⇒ find something at the beginning of the string and return a match object.\n",
    "\n",
    "other methods of interest are findall and finditer"
   ]
  },
  {
   "cell_type": "markdown",
   "metadata": {},
   "source": [
    "### Enum\n",
    "More at https://www.geeksforgeeks.org/enum-in-python/\n",
    "(Unrelated but also read https://www.geeksforgeeks.org/str-vs-repr-in-python/)"
   ]
  },
  {
   "cell_type": "code",
   "execution_count": 2,
   "metadata": {},
   "outputs": [
    {
     "name": "stdout",
     "output_type": "stream",
     "text": [
      "All the enum values are : \n",
      "Animal.dog\n",
      "Animal.lion\n",
      "Enum is hashed\n",
      "True\n"
     ]
    }
   ],
   "source": [
    "import enum\n",
    "\n",
    "# creating enumerations using class\n",
    "class Animal(enum.Enum):\n",
    "    dog = 1\n",
    "    cat = 2 # if changed to 1, no error, Animal.dog==Animal.cat gives True\n",
    "    lion = 3\n",
    "\n",
    "# printing all enum members using loop\n",
    "print (\"All the enum values are : \")\n",
    "for Anim in (Animal):\n",
    "    print(Anim)\n",
    "\n",
    "# Hashing enum member as dictionary\n",
    "di = {}\n",
    "di[Animal.dog] = 'bark'\n",
    "di[Animal.lion] = 'roar'\n",
    "\n",
    "# checking if enum values are hashed successfully\n",
    "if di=={Animal.dog : 'bark',Animal.lion : 'roar'}:\n",
    "    print (\"Enum is hashed\")\n",
    "else: print (\"Enum is not hashed\")\n",
    "\n",
    "print(Animal.dog==Animal.cat)"
   ]
  }
 ],
 "metadata": {
  "kernelspec": {
   "display_name": "Python 3",
   "language": "python",
   "name": "python3"
  },
  "language_info": {
   "codemirror_mode": {
    "name": "ipython",
    "version": 3
   },
   "file_extension": ".py",
   "mimetype": "text/x-python",
   "name": "python",
   "nbconvert_exporter": "python",
   "pygments_lexer": "ipython3",
   "version": "3.6.5"
  }
 },
 "nbformat": 4,
 "nbformat_minor": 5
}
