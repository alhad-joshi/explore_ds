{
 "cells": [
  {
   "cell_type": "code",
   "execution_count": 1,
   "metadata": {},
   "outputs": [
    {
     "name": "stdout",
     "output_type": "stream",
     "text": [
      "<class 'int'> 1598964064784\n"
     ]
    }
   ],
   "source": [
    "# Q. Declare an int value and store it in a variable.\n",
    "# Check the type and print the id of the same.\n",
    "a = 1000\n",
    "print(type(a), id(a))"
   ]
  },
  {
   "cell_type": "code",
   "execution_count": 2,
   "metadata": {},
   "outputs": [
    {
     "name": "stdout",
     "output_type": "stream",
     "text": [
      "140723939256400 140723939256400\n",
      "140723939256432\n",
      "140723939256464\n"
     ]
    }
   ],
   "source": [
    "# Q. Take one int value between 0 - 256.\n",
    "# Assign it to two different variables.\n",
    "# Check the id of both the variables. It should come the same. Check why?\n",
    "a = 10\n",
    "b = 10\n",
    "print(id(a), id(b)) #same id as 10 is cached\n",
    "c = 11\n",
    "print(id(c)) #next int is 32 bits ahead in address! So they are stored next to each other - contigeously?\n",
    "d = 12\n",
    "print(id(d))"
   ]
  },
  {
   "cell_type": "code",
   "execution_count": 3,
   "metadata": {},
   "outputs": [
    {
     "name": "stdout",
     "output_type": "stream",
     "text": [
      "1598964064656 1598964065360\n"
     ]
    }
   ],
   "source": [
    "# Q. Take one int value either less than -5 or greater than 256.\n",
    "# Assign it to two different variables.\n",
    "# Check the id of both the variables. It should come different.Check why?\n",
    "uncached = -6\n",
    "a = -6\n",
    "b = -6\n",
    "print(id(a), id(b)) # -6 NOT cached, so different ids"
   ]
  },
  {
   "cell_type": "code",
   "execution_count": 4,
   "metadata": {},
   "outputs": [
    {
     "name": "stdout",
     "output_type": "stream",
     "text": [
      "sum=18\n",
      "difference=-4\n",
      "product=77\n",
      "division=0.6363636363636364\n",
      "remainder=7\n",
      "quotient=0\n",
      "exponent=1977326743\n"
     ]
    }
   ],
   "source": [
    "# Q. Arithmetic Operations on integers\n",
    "# Take two different integer values.\n",
    "# Store them in two different variables.\n",
    "# Do below operations on them:-\n",
    "#  Find sum of both numbers\n",
    "#  Find difference between them\n",
    "#  Find the product of both numbers.\n",
    "#  Find value after dividing first num with second number\n",
    "#  Find the remainder after dividing first number with second number\n",
    "#  Find the quotient after dividing first number with second number\n",
    "#  Find the result of the first num to the power of the second number.\n",
    "\n",
    "a = 7\n",
    "b = 11\n",
    "print(f'sum={a + b}')\n",
    "print(f'difference={a - b}')\n",
    "print(f'product={a * b}')\n",
    "print(f'division={a / b}')\n",
    "print(f'remainder={a % b}')\n",
    "print(f'quotient={a // b}')\n",
    "print(f'exponent={a ** b}')\n"
   ]
  },
  {
   "cell_type": "code",
   "execution_count": 5,
   "metadata": {},
   "outputs": [
    {
     "name": "stdout",
     "output_type": "stream",
     "text": [
      "a Greater than b? False\n",
      "a Smaller than b? True\n",
      "a Greater than or equal to b? False\n",
      "a Greater than or equal to b? True\n"
     ]
    }
   ],
   "source": [
    "# Q. Comparison Operators on integers\n",
    "# Take two different integer values.\n",
    "# Store them in two different variables.\n",
    "# Do below operations on them:-\n",
    "#  Compare se two numbers with below operator:-\n",
    "#  Greater than, '>'\n",
    "#  Smaller than, '<'\n",
    "#  Greater than or equal to, '>='\n",
    "#  Less than or equal to, '<='\n",
    "# Observe their output(return type should be boolean)\n",
    "a = 13\n",
    "b = 17\n",
    "print(f'a Greater than b? {a > b}')\n",
    "print(f'a Smaller than b? {a < b}')\n",
    "print(f'a Greater than or equal to b? {a >= b}')\n",
    "print(f'a Greater than or equal to b? {a <= b}')"
   ]
  },
  {
   "cell_type": "code",
   "execution_count": 6,
   "metadata": {},
   "outputs": [
    {
     "name": "stdout",
     "output_type": "stream",
     "text": [
      "False\n",
      "True\n"
     ]
    }
   ],
   "source": [
    "# Q. Equality Operator\n",
    "# Take two different integer values.\n",
    "# Store them in two different variables.\n",
    "# Equate them using equality operators (==, !=)\n",
    "# Observe the output(return type should be boolean)\n",
    "a = 19\n",
    "b = 23\n",
    "print(a == b)\n",
    "print(a != b)"
   ]
  },
  {
   "cell_type": "code",
   "execution_count": 7,
   "metadata": {},
   "outputs": [
    {
     "name": "stdout",
     "output_type": "stream",
     "text": [
      "20\n",
      "0\n",
      "0\n",
      "0\n",
      "10\n",
      "20\n",
      "20\n",
      "0\n",
      "False\n",
      "True\n"
     ]
    }
   ],
   "source": [
    "# Q. Logical operators\n",
    "# Observe the output of below code\n",
    "# Cross check the output manually\n",
    "print(10 and 20)\n",
    "# #----------------------------------------->Output is 20\n",
    "print(0 and 20)\n",
    "# #----------------------------------------->Output is 0\n",
    "print(20 and 0)\n",
    "# #----------------------------------------->Output is 0\n",
    "print(0 and 0)\n",
    "# #----------------------------------------->Output is 0\n",
    "print(10 or 20)\n",
    "# #----------------------------------------->Output is 10\n",
    "print(0 or 20)\n",
    "# #----------------------------------------->Output is 20\n",
    "print(20 or 0)\n",
    "# #----------------------------------------->Output is 20\n",
    "print(0 or 0)\n",
    "# #----------------------------------------->Output is 0\n",
    "print(not 10)\n",
    "# #----------------------------------------->Output is False\n",
    "print(not 0)\n",
    "# #----------------------------------------->Output is True"
   ]
  },
  {
   "cell_type": "code",
   "execution_count": 8,
   "metadata": {},
   "outputs": [
    {
     "name": "stdout",
     "output_type": "stream",
     "text": [
      "0\n",
      "30\n",
      "30\n",
      "0\n",
      "-11\n",
      "40\n",
      "2\n"
     ]
    }
   ],
   "source": [
    "# Q. Bitwise Operators\n",
    "# Do below operations on the values provided below:-\n",
    "#  Bitwise and(&) -----------------------------------------> 10, 20\n",
    "print(10 & 20) # in 10, bits for 8 and 2 are 1, in 20 bits for 16 and 4 are 1, so no common bit set to 1 ==> 0\n",
    "# -------> Output is 0\n",
    "#  Bitwise or(|) -----------------------------------------> 10, 20\n",
    "print(10 | 20) # uion of bits set to 1 ==> 30\n",
    "# -------> Output is 30\n",
    "#  Bitwise(^) -----------------------------------------> 10, 20\n",
    "print(10 ^ 20) # since no common bit is set to one, acts as | for those bits ==> 30\n",
    "print(20 ^ 20)\n",
    "# -------> Output is 30\n",
    "#  Bitwise negation(~) ------------------------------------> 10\n",
    "print(~10) # 0000 1010 ~= 11110101??? how does this works? don't remember 2's complement representation\n",
    "# print(bin(-11))\n",
    "# print(bin(10))\n",
    "# -------> Output is -11\n",
    "#  Bitwise left shift ------------------------------------> 10,2\n",
    "print(10 << 2)\n",
    "# -------> Output is 40\n",
    "#  Bitwise right shift ------------------------------------> 10,2\n",
    "print(10 >> 2)\n",
    "# -------> Output is 2\n",
    "# Cross check the output manually\n"
   ]
  },
  {
   "cell_type": "code",
   "execution_count": 9,
   "metadata": {},
   "outputs": [
    {
     "name": "stdout",
     "output_type": "stream",
     "text": [
      "True\n",
      "False\n",
      "False\n",
      "True\n",
      "140723939022976\n"
     ]
    }
   ],
   "source": [
    "# Q. What is the output of expression inside print statement. Cross check\n",
    "# before running the program.\n",
    "a = 10\n",
    "b = 10\n",
    "print(a is b) #True or False?  True, 10 is cached\n",
    "print(a is not b) #True or False? False, 10 is cached\n",
    "a = 1000\n",
    "b = 1000\n",
    "print(a is b) #True or False? False, 1000 is NOT cached\n",
    "print(a is not b) #True or False? True, 1000 is NOT cached\n",
    "# print(None is None)\n",
    "# print(id(None))  "
   ]
  },
  {
   "cell_type": "code",
   "execution_count": 10,
   "metadata": {},
   "outputs": [
    {
     "name": "stdout",
     "output_type": "stream",
     "text": [
      "20\n"
     ]
    }
   ],
   "source": [
    "# Q. What is the output of expression inside print statement. Cross check\n",
    "# before running the program.\n",
    "print(10+(10*32)//2**5&20+(~(-10))<<2) #What is operator precedence for **, // and logical operators??"
   ]
  },
  {
   "cell_type": "code",
   "execution_count": 25,
   "metadata": {},
   "outputs": [
    {
     "name": "stdout",
     "output_type": "stream",
     "text": [
      "True\n",
      "True\n",
      "True\n",
      "True\n",
      "True\n"
     ]
    }
   ],
   "source": [
    "# Q. Membership operation\n",
    "# in, not in are two membership operators and it returns boolean value\n",
    "print('2' in 'Python2.7.8')\n",
    "print(10 in [10,10.20,10+20j,'Python'])\n",
    "# print(20j in (10,10.20,10+20j,'Python')) #False\n",
    "print(2 in {1,2,3})\n",
    "# print(None in {1,2,3}) #False\n",
    "# print(f'None in \"{None}\"? {None in {None}}') #True\n",
    "# print(f'None in None? {None in None}') #TypeError: argument of type 'NoneType' is not iterable\n",
    "print(3 in {1:100, 2:200, 3:300})\n",
    "# print(300 in {1:100, 2:200, 3:300}) #False, so only keys are checked?\n",
    "print(10 in range(20))\n",
    "# print(range(20)) # what is range(20)???"
   ]
  },
  {
   "cell_type": "code",
   "execution_count": 17,
   "metadata": {},
   "outputs": [
    {
     "name": "stdout",
     "output_type": "stream",
     "text": [
      "21\n",
      "668\n",
      "6900\n",
      "9876 in binary is 0b10011010010100, in octal is 0o23224 and in hex is 0x2694\n"
     ]
    }
   ],
   "source": [
    "# Q. An integer can be represented in binary, octal or hexadecimal form.\n",
    "# Declare one binary, one octal and one hexadecimal value and store them\n",
    "# in three different variables.\n",
    "# Convert 9876 to its binary, octal and hexadecimal equivalent and print\n",
    "# their corresponding value.\n",
    "a = 0b10101\n",
    "print(a)\n",
    "b = 0o1234\n",
    "print(b)\n",
    "c = 0x1af4\n",
    "print(c)\n",
    "number = 9876\n",
    "print(f'{number} in binary is {bin(number)}, in octal is {oct(number)} and in hex is {hex(number)}')"
   ]
  },
  {
   "cell_type": "code",
   "execution_count": 18,
   "metadata": {},
   "outputs": [
    {
     "name": "stdout",
     "output_type": "stream",
     "text": [
      "80\n",
      "3870\n",
      "64222\n",
      "0b1010000\n",
      "0o7436\n",
      "0xfade\n",
      "0b1010000\n",
      "0b1111101011011110\n",
      "0o175336\n",
      "0o7436\n",
      "0x50\n",
      "0xfade\n"
     ]
    }
   ],
   "source": [
    "# Q. What will be the output of following:-\n",
    "a = 0b1010000\n",
    "print(a)\n",
    "b = 0o7436\n",
    "print(b)\n",
    "c = 0xfade\n",
    "print(c)\n",
    "print(bin(80))\n",
    "print(oct(3870))\n",
    "print(hex(64222))\n",
    "print(bin(0b1010000))\n",
    "print(bin(0xfade))\n",
    "print(oct(0xfade))\n",
    "print(oct(0o7436))\n",
    "print(hex(0b1010000))\n",
    "print(hex(0xfade))"
   ]
  }
 ],
 "metadata": {
  "kernelspec": {
   "display_name": "Python 3",
   "language": "python",
   "name": "python3"
  },
  "language_info": {
   "codemirror_mode": {
    "name": "ipython",
    "version": 3
   },
   "file_extension": ".py",
   "mimetype": "text/x-python",
   "name": "python",
   "nbconvert_exporter": "python",
   "pygments_lexer": "ipython3",
   "version": "3.6.5"
  }
 },
 "nbformat": 4,
 "nbformat_minor": 5
}
