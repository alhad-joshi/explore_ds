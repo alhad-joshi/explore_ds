{
 "cells": [
  {
   "cell_type": "markdown",
   "id": "84086dbc",
   "metadata": {},
   "source": [
    "### Alhad Joshi | alhad.coep@gmail.com | +919980820403 | 26th Sept 2021 Morning Batch\n",
    "### Week 1 - float Assignment"
   ]
  },
  {
   "cell_type": "code",
   "execution_count": 2,
   "id": "21149e67",
   "metadata": {},
   "outputs": [
    {
     "name": "stdout",
     "output_type": "stream",
     "text": [
      "<class 'float'> 2039336100272\n"
     ]
    }
   ],
   "source": [
    "# Q. Declare a float value and store it in a variable.\n",
    "# Check the type and print the id of the same.\n",
    "\n",
    "f = 1.0\n",
    "print(type(f), id(f))"
   ]
  },
  {
   "cell_type": "code",
   "execution_count": 31,
   "id": "e4843983",
   "metadata": {},
   "outputs": [
    {
     "name": "stdout",
     "output_type": "stream",
     "text": [
      "10.100000000000001\n",
      "-9.5\n",
      "2.94\n",
      "0.03061224489795918\n",
      "0.3\n",
      "32.0\n",
      "7.512565927801447e-06\n"
     ]
    }
   ],
   "source": [
    "# Q. Arithmetic Operations on float\n",
    "# Take two different float values.\n",
    "# Store them in two different variables.\n",
    "# Do below operations on them:-\n",
    "# Find sum of both numbers\n",
    "# Find difference between them\n",
    "# Find the product of both numbers.\n",
    "# Find value after dividing first num with second number\n",
    "# Find the remainder after dividing first number with second number\n",
    "# Find the quotient after dividing first number with second number\n",
    "# Find the result of the first num to the power of the second number.\n",
    "f1 = 0.3\n",
    "f2 = 9.8\n",
    "print(f1 + f2)\n",
    "print(f1 - f2)\n",
    "print(f1 * f2)\n",
    "print(f1 / f2)\n",
    "print(f1 % f2)\n",
    "print(f2 // f1)\n",
    "print(f1 ** f2)"
   ]
  },
  {
   "cell_type": "code",
   "execution_count": 6,
   "id": "55af85a4",
   "metadata": {},
   "outputs": [
    {
     "name": "stdout",
     "output_type": "stream",
     "text": [
      "False\n",
      "True\n",
      "False\n",
      "True\n"
     ]
    }
   ],
   "source": [
    "# Q. Comparison Operators on float\n",
    "# Take two different float values.\n",
    "# Store them in two different variables.\n",
    "# Do below operations on them:-\n",
    "# Compare these two numbers with below operator:-\n",
    "# Greater than, '>'\n",
    "# Smaller than, '<'\n",
    "# Greater than or equal to, '>='\n",
    "# Less than or equal to, '<='\n",
    "# Observe their output(return type should be boolean)\n",
    "f1 = 0.3\n",
    "f2 = 9.8\n",
    "print(f1 > f2)\n",
    "print(f1 < f2)\n",
    "print(f1 >= f2)\n",
    "print(f1 <= f2)"
   ]
  },
  {
   "cell_type": "code",
   "execution_count": 10,
   "id": "93787c6c",
   "metadata": {},
   "outputs": [
    {
     "name": "stdout",
     "output_type": "stream",
     "text": [
      "False\n",
      "True\n"
     ]
    }
   ],
   "source": [
    "# Q. Equality Operator\n",
    "# Take two different float values.\n",
    "# Store them in two different variables.\n",
    "# Equate them using equality operators (==, !=)\n",
    "# Observe the output(return type should be boolean)\n",
    "f1 = 0.33\n",
    "f2 = 0.32\n",
    "print(f1 == f2)\n",
    "print(f1 != f2)"
   ]
  },
  {
   "cell_type": "code",
   "execution_count": 22,
   "id": "8e9f83cb",
   "metadata": {},
   "outputs": [
    {
     "name": "stdout",
     "output_type": "stream",
     "text": [
      "20.3\n",
      "0.0\n",
      "0.0\n",
      "0.0\n",
      "10.2\n",
      "20.3\n",
      "20.3\n",
      "0.0\n",
      "False\n",
      "True\n"
     ]
    }
   ],
   "source": [
    "# Q. Logical operators\n",
    "# Observe the output of below code\n",
    "# Cross check the output manually\n",
    "print(10.20 and 20.30) #both are true and second value taken\n",
    "# >Output is 20.3\n",
    "print(0.0 and 20.30) #First is false so first value\n",
    "# taken->Output is 0.0\n",
    "\n",
    "print(20.30 and 0.0) #Goes to till second and second value is\n",
    "# false so second is taken>Output is 0.0\n",
    "print(0.0 and 0.0) #First is false so first value is\n",
    "# taken->Output is 0.0\n",
    "print(10.20 or 20.30) #First is True so first value is\n",
    "# taken>Output is 10.2\n",
    "print(0.0 or 20.30) #Goes to till second and second is true\n",
    "# second value is taken->Output is 20.3\n",
    "print(20.30 or 0.0) #First is True so first value is\n",
    "# taken->Output is 20.3\n",
    "print(0.0 or 0.0) #Goes to till second and second is also\n",
    "# false and second value is taken>Output is 0.0\n",
    "print(not 10.20) #-Not of true is false->Output is False\n",
    "print(not 0.0) #Not of false is True>Output is True"
   ]
  },
  {
   "cell_type": "code",
   "execution_count": 27,
   "id": "5a7d3e98",
   "metadata": {},
   "outputs": [
    {
     "name": "stdout",
     "output_type": "stream",
     "text": [
      "False\n",
      "True\n",
      "2039336100048 2039336102128\n",
      "2039336100048\n",
      "True\n"
     ]
    }
   ],
   "source": [
    "# Q. What is the output of expression inside print statement. Cross check\n",
    "# before running the program.\n",
    "a = 10.20\n",
    "b = 10.20\n",
    "print(a is b) #True or False? True 10.20<256 -> wrong, prints False\n",
    "print(a is not b) #True or False? False -> wrong, prints True\n",
    "# Why the Id of float values are different when the same value is\n",
    "# assigned to two different variables\n",
    "# ex: a = 10.5 b=10.5. but id will be same if I assign the variable\n",
    "# having float i.e. a=c then both a and c's Id are same\n",
    "\n",
    "#Answer: floats values are not cached, hence id will be different. (Object reusability concept is not applicable on float values.)\n",
    "a = 10.5\n",
    "b = 10.5\n",
    "print(id(a), id(b))\n",
    "\n",
    "# when we assign, they refer to same memory address, so id will be same, and (c is a) == True\n",
    "c = a\n",
    "print(id(c))\n",
    "print(c is a)"
   ]
  },
  {
   "cell_type": "code",
   "execution_count": 29,
   "id": "bbfbb9de",
   "metadata": {},
   "outputs": [],
   "source": [
    "# Q. Bitwise operation is not applicable between instances of float.\n",
    "# print (0.2 & 0.3) # TypeError: unsupported operand type(s) for &: 'float' and 'float'"
   ]
  },
  {
   "cell_type": "code",
   "execution_count": 30,
   "id": "88f596d4",
   "metadata": {},
   "outputs": [
    {
     "name": "stdout",
     "output_type": "stream",
     "text": [
      "True\n",
      "True\n",
      "True\n",
      "True\n",
      "True\n",
      "True\n"
     ]
    }
   ],
   "source": [
    "# Q. Membership operation\n",
    "# in, not in are two membership operators and it returns boolean value\n",
    "print('2.7' in 'Python2.7.8') #True\n",
    "print(10.20 in [10,10.20,10+20j,'Python']) #True\n",
    "print(10.20 in (10,10.20,10+20j,'Python')) # True\n",
    "print(20.30 in {1,20.30,30+40j}) # True\n",
    "print(2.3 in {1:100, 2.3:200, 30+40j:300}) # True\n",
    "print(10 in range(20)) # True"
   ]
  }
 ],
 "metadata": {
  "kernelspec": {
   "display_name": "Python 3",
   "language": "python",
   "name": "python3"
  },
  "language_info": {
   "codemirror_mode": {
    "name": "ipython",
    "version": 3
   },
   "file_extension": ".py",
   "mimetype": "text/x-python",
   "name": "python",
   "nbconvert_exporter": "python",
   "pygments_lexer": "ipython3",
   "version": "3.8.8"
  }
 },
 "nbformat": 4,
 "nbformat_minor": 5
}
