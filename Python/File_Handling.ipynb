{
 "cells": [
  {
   "cell_type": "code",
   "execution_count": 7,
   "metadata": {},
   "outputs": [
    {
     "name": "stdout",
     "output_type": "stream",
     "text": [
      "A nice poem\n",
      "\n",
      "that has no rhyme\n",
      "\n",
      "is as good as \n",
      "\n",
      "a dead fish in rhine!\n"
     ]
    }
   ],
   "source": [
    "# Write a function in python to read the content from \n",
    "# a text file \"poem.txt\" line by line and display the same on screen.\n",
    "with open(r'poem.txt', 'r') as f:\n",
    "    for line in f:\n",
    "        print(line)\n"
   ]
  },
  {
   "cell_type": "code",
   "execution_count": 9,
   "metadata": {},
   "outputs": [
    {
     "name": "stdout",
     "output_type": "stream",
     "text": [
      "3\n"
     ]
    }
   ],
   "source": [
    "# Write a function in python to count the number of lines \n",
    "# from a text file \"story.txt\" which is not starting with an alphabet \"T\". \n",
    "\n",
    "# Example: If the file \"story.txt\" contains the following lines: A boy is playing there.\n",
    "# There is a playground.\n",
    "# An aeroplane is in the sky.\n",
    "# The sky is pink.\n",
    "# Alphabets and numbers are allowed in the password.\n",
    "# The function should display the output as 3\n",
    "\n",
    "with open(r'story.txt', 'r') as f:\n",
    "    count = 0\n",
    "    for line in f:\n",
    "        if not line.startswith('T'):\n",
    "            count += 1\n",
    "    print(count)"
   ]
  },
  {
   "cell_type": "code",
   "execution_count": 10,
   "metadata": {},
   "outputs": [
    {
     "name": "stdout",
     "output_type": "stream",
     "text": [
      "27\n"
     ]
    }
   ],
   "source": [
    "# Write a function in Python to count and display the total number of words in a text file.\n",
    "with open(r'story.txt', 'r') as f:\n",
    "    content = f.read()\n",
    "    words = content.split()\n",
    "    print(len(words))"
   ]
  },
  {
   "cell_type": "code",
   "execution_count": 13,
   "metadata": {},
   "outputs": [
    {
     "name": "stdout",
     "output_type": "stream",
     "text": [
      "5\n"
     ]
    }
   ],
   "source": [
    "# Write a function in Python to read lines from a text file \"notes.txt\". \n",
    "# Your function should find and display the occurrence of the word \"the\".\n",
    "\n",
    "# For example: If the content of the file is:\n",
    "# \"India is the fastest-growing economy. India is looking for more investments around the globe. The whole world is looking at India as a great market. Most of the Indians can foresee the heights that India is capable of reaching.\"\n",
    "\n",
    "# The output should be 5.\n",
    "with open(r'notes.txt', 'r') as f:\n",
    "    count = 0\n",
    "    content = f.read()\n",
    "    words = content.split()\n",
    "    for i in words:\n",
    "        if i.lower()=='the':\n",
    "            count += 1\n",
    "    print(count)"
   ]
  },
  {
   "cell_type": "code",
   "execution_count": 14,
   "metadata": {},
   "outputs": [
    {
     "name": "stdout",
     "output_type": "stream",
     "text": [
      "A\n",
      "boy\n",
      "is\n",
      "is\n",
      "a\n",
      "An\n",
      "is\n",
      "in\n",
      "the\n",
      "The\n",
      "sky\n",
      "is\n",
      "and\n",
      "are\n",
      "in\n",
      "the\n"
     ]
    }
   ],
   "source": [
    "# Write a function display_words() in python to read lines from a text file \"story.txt\", \n",
    "# and display those words, which are less than 4 characters.\n",
    "with open(r'story.txt', 'r') as f:\n",
    "    content = f.read()\n",
    "    words = content.split()\n",
    "    for i in words:\n",
    "        if len(i)<4:\n",
    "            print(i)"
   ]
  },
  {
   "cell_type": "code",
   "execution_count": 18,
   "metadata": {},
   "outputs": [
    {
     "name": "stdout",
     "output_type": "stream",
     "text": [
      "2 3\n"
     ]
    }
   ],
   "source": [
    "# Write a function in Python to count the words \"this\" and \"these\" present in a text file \"article.txt\". \n",
    "# [Note that the words \"this\" and \"these\" are complete words] \n",
    "with open(r'article.txt', 'r') as f:\n",
    "    this_count=0\n",
    "    these_count=0\n",
    "    content = f.read()\n",
    "    for i in content.split():\n",
    "        if i.lower()=='this':\n",
    "            this_count += 1\n",
    "        elif i.lower()=='these':\n",
    "            these_count += 1\n",
    "    print(this_count, these_count)"
   ]
  },
  {
   "cell_type": "code",
   "execution_count": 22,
   "metadata": {},
   "outputs": [
    {
     "name": "stdout",
     "output_type": "stream",
     "text": [
      "There\n",
      "aeroplane\n",
      "the\n",
      "The\n",
      "are\n",
      "the\n",
      "6\n"
     ]
    }
   ],
   "source": [
    "# Write a function in Python to count words in a text file those are ending with alphabet \"e\"\n",
    "with open(r'story.txt', 'r') as f:\n",
    "    count = 0\n",
    "    words = f.read().split()\n",
    "    for word in words:\n",
    "        if word.endswith('e'):\n",
    "            print(word)\n",
    "            count += 1\n",
    "    print(count)"
   ]
  },
  {
   "cell_type": "code",
   "execution_count": 24,
   "metadata": {},
   "outputs": [
    {
     "name": "stdout",
     "output_type": "stream",
     "text": [
      "5\n"
     ]
    }
   ],
   "source": [
    "# Write a function in Python to count uppercase character in a text file.\n",
    "with open(r'story.txt', 'r') as f:\n",
    "    count = 0\n",
    "    contents = f.read()\n",
    "    for char in contents:\n",
    "        if char.isupper():\n",
    "            count += 1\n",
    "    print(count)"
   ]
  },
  {
   "cell_type": "code",
   "execution_count": 28,
   "metadata": {},
   "outputs": [
    {
     "name": "stdout",
     "output_type": "stream",
     "text": [
      "T#H#E# #W#O#R#L#D# #I#S# #R#O#U#N#D#\n"
     ]
    }
   ],
   "source": [
    "# A text file named \"matter.txt\" contains some text, which needs to be displayed such that \n",
    "# every next character is separated by a symbol \"#\". \n",
    "# Write a function definition for hash_display() in Python that would display \n",
    "# the entire content of the file matter.txt in the desired format.\n",
    "\n",
    "# Example :\n",
    "# If the file matter.txt has the following content stored in it :\n",
    "# THE WORLD IS ROUND\n",
    "\n",
    "# The function hash_display() should display the following content :\n",
    "# T#H#E# #W#O#R#L#D# #I#S# #R#O#U#N#D#\n",
    "\n",
    "with open(r'matter.txt', 'r') as f:\n",
    "    new_content = ''\n",
    "    contents = f.read()\n",
    "    for char in contents:\n",
    "#         print(char+'#', end='') # although works, not efficient, as it'll print char by char\n",
    "        new_content += char + '#'\n",
    "    print(new_content)"
   ]
  },
  {
   "cell_type": "code",
   "execution_count": 29,
   "metadata": {},
   "outputs": [
    {
     "name": "stdout",
     "output_type": "stream",
     "text": [
      "WELL, THIS IS A WORD BY ITSELF. YOU COULD STRETCH THIS TO BE A SENTENCE\n",
      "\n"
     ]
    }
   ],
   "source": [
    "# Aditi has used a text editing software to type some text. After saving the article as WORDS.TXT, \n",
    "# she realised that she has wrongly typed alphabet J in place of alphabet I everywhere in the article.\n",
    "# Write a function definition for JTOI() in Python that would display the corrected version of entire content \n",
    "# of the file WORDS.TXT with all the alphabets \"J\" to be displayed as an alphabet \"I\" on screen.\n",
    "\n",
    "# Note: Assuming that WORD.TXT does not contain any J alphabet otherwise.\n",
    "\n",
    "# Example:\n",
    "# If Aditi has stored the following content in the file WORDS.TXT:\n",
    "# WELL, THJS JS A WORD BY JTSELF. YOU COULD STRETCH THJS TO BE A SENTENCE\n",
    "# The function JTOI() should display the following content:\n",
    "# WELL, THIS IS A WORD BY ITSELF. YOU COULD STRETCH THIS TO BE A SENTENCE\n",
    "\n",
    "with open(r'WORDS.txt', 'r') as f:\n",
    "    new_content = ''\n",
    "    contents = f.read()\n",
    "    for char in contents:\n",
    "        if char=='J':\n",
    "            new_content += 'I'\n",
    "        else:\n",
    "            new_content += char\n",
    "    print(new_content)"
   ]
  },
  {
   "cell_type": "code",
   "execution_count": 32,
   "metadata": {},
   "outputs": [
    {
     "name": "stdout",
     "output_type": "stream",
     "text": [
      "4 2\n"
     ]
    }
   ],
   "source": [
    "# Write a function AMCount() in Python, which should read each character of a text file STORY.TXT, \n",
    "# should count and display the occurance of alphabets A and M (including small cases a and m too).\n",
    "# For Example:\n",
    "# If the file content is as follows:\n",
    "# Updated information\n",
    "# As simplified by official websites.\n",
    "# The EUCount() function should display the output as:\n",
    "# A or a:4\n",
    "# M or m :2\n",
    "\n",
    "with open(r'amcount.txt', 'r') as f:\n",
    "    a_count=0\n",
    "    m_count=0\n",
    "    content = f.read()\n",
    "    for i in content:\n",
    "        if i.lower()=='a':\n",
    "            a_count += 1\n",
    "        elif i.lower()=='m':\n",
    "            m_count += 1\n",
    "    print(a_count, m_count)"
   ]
  },
  {
   "cell_type": "code",
   "execution_count": 47,
   "metadata": {},
   "outputs": [
    {
     "name": "stdout",
     "output_type": "stream",
     "text": [
      "Done processing file\n"
     ]
    },
    {
     "data": {
      "text/plain": [
       "6"
      ]
     },
     "execution_count": 47,
     "metadata": {},
     "output_type": "execute_result"
    }
   ],
   "source": [
    "# A binary file \"Book.dat\" has structure [BookNo, Book_Name, Author, Price].\n",
    "# i. Write a user defined function createFile() to input data for a record and add to Book.dat.\n",
    "# ii. Write a function countRec(Author) in Python which accepts the Author name as parameter \n",
    "# and count and return number of books by the given Author are stored in the binary file \"Book.dat\"\n",
    "\n",
    "import pickle\n",
    "\n",
    "file_name = r'book.dat' # initial r is to indicate it's a raw string\n",
    "def createFile(record):\n",
    "    with open(file_name, 'ab+') as f:\n",
    "        pickle.dump(record, f)\n",
    "\n",
    "def countRec(author):\n",
    "    count=0\n",
    "    with open(file_name, 'rb') as f:\n",
    "        while (True):\n",
    "            try:\n",
    "                data = pickle.load(f)\n",
    "                if author in data:\n",
    "                    count += 1\n",
    "            except Exception as e:\n",
    "                print('Done processing file')\n",
    "                break\n",
    "    return count\n",
    "\n",
    "createFile([1, 'book1', 'self', 100])\n",
    "createFile([2, 'book2', 'self', 200])\n",
    "createFile([3, 'book3', 'this', 200])\n",
    "countRec('self')\n",
    "    "
   ]
  },
  {
   "cell_type": "code",
   "execution_count": 51,
   "metadata": {},
   "outputs": [
    {
     "name": "stdout",
     "output_type": "stream",
     "text": [
      "Done processing file\n"
     ]
    },
    {
     "data": {
      "text/plain": [
       "[[3, 'book3', 'this', 80], [3, 'book3', 'this', 100]]"
      ]
     },
     "execution_count": 51,
     "metadata": {},
     "output_type": "execute_result"
    }
   ],
   "source": [
    "# A binary file \"STUDENT.DAT\" has structure (admission_number, Name, Percentage). \n",
    "# Write a function count_rec() in Python that would read contents of the file \"STUDENT.DAT\" \n",
    "# and display the details of those students whose percentage is above 75. \n",
    "# Also display number of students scoring above 75%\n",
    "\n",
    "import pickle\n",
    "\n",
    "file_name = r'STUDENT.dat' # initial r is to indicate it's a raw string\n",
    "def createFile(record):\n",
    "    with open(file_name, 'ab+') as f:\n",
    "        pickle.dump(record, f)\n",
    "\n",
    "def count_rec():\n",
    "    out_lst=[]\n",
    "    with open(file_name, 'rb') as f:\n",
    "        while (True):\n",
    "            try:\n",
    "                data = pickle.load(f)\n",
    "                if data[-1]>75:\n",
    "                    out_lst.append(data)\n",
    "            except Exception as e:\n",
    "                print('Done processing file')\n",
    "                break\n",
    "    return out_lst\n",
    "\n",
    "createFile([1, 'book1', 'self', 60])\n",
    "createFile([2, 'book2', 'self', 20])\n",
    "createFile([3, 'book3', 'this', 80])\n",
    "createFile([3, 'book3', 'this', 100])\n",
    "count_rec()"
   ]
  },
  {
   "cell_type": "code",
   "execution_count": 60,
   "metadata": {},
   "outputs": [
    {
     "name": "stdout",
     "output_type": "stream",
     "text": [
      "Done processing file Ran out of input\n"
     ]
    },
    {
     "data": {
      "text/plain": [
       "[{'empcode': 234, 'name': 'Adway', 'salary': '9900000'},\n",
       " {'empcode': 456, 'name': 'Abhishek', 'salary': '40000'}]"
      ]
     },
     "execution_count": 60,
     "metadata": {},
     "output_type": "execute_result"
    }
   ],
   "source": [
    "# Given a binary file employee.dat, created using dictionary object having keys: (empcode, name, and salary)\n",
    "\n",
    "# Write a python function that add one more record at the end of file.\n",
    "# Write a python function that display all employee records whose salary is more that 30000\n",
    "import pickle\n",
    "\n",
    "file_name = r'employee.dat' # initial r is to indicate it's a raw string\n",
    "def createFile(record):\n",
    "    with open(file_name, 'ab+') as f:\n",
    "        pickle.dump(record, f)\n",
    "\n",
    "def count_rec():\n",
    "    out_lst=[]\n",
    "    with open(file_name, 'rb') as f:\n",
    "        while (True):\n",
    "            try:\n",
    "                data = pickle.load(f)\n",
    "                if int(data['salary'])>30000:\n",
    "                    out_lst.append(data)\n",
    "            except Exception as e:\n",
    "                print('Done processing file',e)\n",
    "                break\n",
    "    return out_lst\n",
    "\n",
    "createFile({'empcode':123, 'name': 'Alhad', 'salary': '30000'})\n",
    "createFile({'empcode':234, 'name': 'Adway', 'salary': '9900000'})\n",
    "createFile({'empcode':456, 'name': 'Abhishek', 'salary': '40000'})\n",
    "count_rec()"
   ]
  },
  {
   "cell_type": "code",
   "execution_count": 64,
   "metadata": {},
   "outputs": [
    {
     "name": "stdout",
     "output_type": "stream",
     "text": [
      "Done processing file Ran out of input\n"
     ]
    },
    {
     "data": {
      "text/plain": [
       "[{'rollno': 1005, 'name': 'Abhishek', 'salary': '40000'}]"
      ]
     },
     "execution_count": 64,
     "metadata": {},
     "output_type": "execute_result"
    }
   ],
   "source": [
    "# Write a function to search and display details of student whose rollno is '1005' \n",
    "# from the binary file student.dat having structure [rollno, name, class and fees].\n",
    "\n",
    "import pickle\n",
    "\n",
    "file_name = r'rollno.dat' # initial r is to indicate it's a raw string\n",
    "def createFile(record):\n",
    "    with open(file_name, 'ab+') as f:\n",
    "        pickle.dump(record, f)\n",
    "\n",
    "def count_rec():\n",
    "    out_lst=[]\n",
    "    with open(file_name, 'rb') as f:\n",
    "        while (True):\n",
    "            try:\n",
    "                data = pickle.load(f)\n",
    "                if data['rollno']==1005:\n",
    "                    out_lst.append(data)\n",
    "            except Exception as e:\n",
    "                print('Done processing file',e)\n",
    "                break\n",
    "    return out_lst\n",
    "\n",
    "createFile({'rollno':123, 'name': 'Alhad', 'salary': '30000'})\n",
    "createFile({'rollno':234, 'name': 'Adway', 'salary': '9900000'})\n",
    "createFile({'rollno':1005, 'name': 'Abhishek', 'salary': '40000'})\n",
    "count_rec()"
   ]
  },
  {
   "cell_type": "code",
   "execution_count": 65,
   "metadata": {},
   "outputs": [
    {
     "name": "stdout",
     "output_type": "stream",
     "text": [
      "Done processing file Ran out of input\n"
     ]
    },
    {
     "data": {
      "text/plain": [
       "1600"
      ]
     },
     "execution_count": 65,
     "metadata": {},
     "output_type": "execute_result"
    }
   ],
   "source": [
    "# A binary file school.dat has structure(rollno, name, class, fees)\n",
    "\n",
    "# Write a definition for function total_fees( ) that reads each object of file and calculate \n",
    "# the total fees of students and display the same.\n",
    "\n",
    "import pickle\n",
    "\n",
    "file_name = r'fees.dat' # initial r is to indicate it's a raw string\n",
    "def createFile(record):\n",
    "    with open(file_name, 'ab+') as f:\n",
    "        pickle.dump(record, f)\n",
    "\n",
    "def total_fees():\n",
    "    fees_sum=0\n",
    "    with open(file_name, 'rb') as f:\n",
    "        while (True):\n",
    "            try:\n",
    "                data = pickle.load(f)\n",
    "                fees_sum += int(data['fees'])\n",
    "            except Exception as e:\n",
    "                print('Done processing file',e)\n",
    "                break\n",
    "    return fees_sum\n",
    "\n",
    "createFile({'rollno':123, 'name': 'Alhad', 'fees': '300'})\n",
    "createFile({'rollno':234, 'name': 'Adway', 'fees': '900'})\n",
    "createFile({'rollno':1005, 'name': 'Abhishek', 'fees': '400'})\n",
    "total_fees()"
   ]
  },
  {
   "cell_type": "code",
   "execution_count": 70,
   "metadata": {},
   "outputs": [
    {
     "name": "stdout",
     "output_type": "stream",
     "text": [
      "Done processing file Ran out of input\n"
     ]
    },
    {
     "data": {
      "text/plain": [
       "([{'rollno': 234, 'name': 'Adway', 'fees': '900', 'country': 'Switzerland'}],\n",
       " 2)"
      ]
     },
     "execution_count": 70,
     "metadata": {},
     "output_type": "execute_result"
    }
   ],
   "source": [
    "# A binary file players.dat, containing records of following list format: [code, name, country and total runs]\n",
    "\n",
    "# 1. Write a python function that display all records where player name starts from 'A'\n",
    "# 2. Write a python function that accept country as an argument and count and display \n",
    "#     the number of players of that country.\n",
    "# 3. Write a python function that add one record at the end of file.\n",
    "\n",
    "import pickle\n",
    "\n",
    "file_name = r'players.dat' # initial r is to indicate it's a raw string\n",
    "def createFile(record):\n",
    "    with open(file_name, 'ab+') as f:\n",
    "        pickle.dump(record, f)\n",
    "\n",
    "def misc_fn(country):\n",
    "    out_lst=[]\n",
    "    country_count=0\n",
    "    with open(file_name, 'rb') as f:\n",
    "        while (True):\n",
    "            try:\n",
    "                data = pickle.load(f)\n",
    "                if data['name'].startswith('A'):\n",
    "                    out_lst.append(data)\n",
    "                if data['country']==country:\n",
    "                    country_count += 1                \n",
    "            except Exception as e:\n",
    "                print('Done processing file',e)\n",
    "                break\n",
    "    return out_lst, country_count\n",
    "\n",
    "createFile({'rollno':123, 'name': 'Balhad', 'fees': '300', 'country': 'India'})\n",
    "createFile({'rollno':234, 'name': 'Adway', 'fees': '900', 'country': 'Switzerland'})\n",
    "createFile({'rollno':1005, 'name': 'Babhishek', 'fees': '400', 'country': 'India'})\n",
    "misc_fn('India')"
   ]
  },
  {
   "cell_type": "code",
   "execution_count": 71,
   "metadata": {
    "ExecuteTime": {
     "end_time": "2021-05-29T10:46:59.140338Z",
     "start_time": "2021-05-29T10:46:59.135100Z"
    }
   },
   "outputs": [
    {
     "name": "stdout",
     "output_type": "stream",
     "text": [
      "Done processing file Ran out of input\n",
      "[{'rollno': 234, 'name': 'Adway', 'game_name': 'Basket Ball', 'country': 'Switzerland'}, {'rollno': 1005, 'name': 'Babhishek', 'game_name': 'Basket Ball', 'country': 'India'}]\n",
      "Done processing file Ran out of input\n"
     ]
    }
   ],
   "source": [
    "# Given a binary file game.dat, containing records of following list format: [game_name, participants]\n",
    "\n",
    "# Write a function in Python that would read contents from the file game.dat and \n",
    "# creates a file named basket.dat copying only those records from game.dat where the game name is \"Basket Ball\"\n",
    "\n",
    "import pickle\n",
    "\n",
    "file_name = r'game.dat' # initial r is to indicate it's a raw string\n",
    "def createFile(record):\n",
    "    with open(file_name, 'ab+') as f:\n",
    "        pickle.dump(record, f)\n",
    "\n",
    "def misc_fn(game_name):\n",
    "    out_lst=[]\n",
    "    with open(file_name, 'rb') as f:\n",
    "        while (True):\n",
    "            try:\n",
    "                data = pickle.load(f)\n",
    "                if data['game_name']==game_name:\n",
    "                    out_lst.append(data)              \n",
    "            except Exception as e:\n",
    "                print('Done processing file',e)\n",
    "                break\n",
    "    with open(r'basket.dat', 'wb') as f:\n",
    "        pickle.dump(out_lst, f)\n",
    "        \n",
    "\n",
    "createFile({'rollno':123, 'name': 'Balhad', 'game_name': 'chess', 'country': 'India'})\n",
    "createFile({'rollno':234, 'name': 'Adway', 'game_name': 'Basket Ball', 'country': 'Switzerland'})\n",
    "createFile({'rollno':1005, 'name': 'Babhishek', 'game_name': 'Basket Ball', 'country': 'India'})\n",
    "misc_fn('Basket Ball')\n",
    "with open(r'basket.dat', 'rb') as f:\n",
    "        while (True):\n",
    "            try:\n",
    "                print(pickle.load(f))\n",
    "            except Exception as e:\n",
    "                print('Done processing file',e)\n",
    "                break"
   ]
  }
 ],
 "metadata": {
  "kernelspec": {
   "display_name": "Python 3",
   "language": "python",
   "name": "python3"
  },
  "language_info": {
   "codemirror_mode": {
    "name": "ipython",
    "version": 3
   },
   "file_extension": ".py",
   "mimetype": "text/x-python",
   "name": "python",
   "nbconvert_exporter": "python",
   "pygments_lexer": "ipython3",
   "version": "3.6.5"
  }
 },
 "nbformat": 4,
 "nbformat_minor": 2
}
