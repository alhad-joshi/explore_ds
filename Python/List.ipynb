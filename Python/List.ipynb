{
 "cells": [
  {
   "cell_type": "code",
   "execution_count": 44,
   "metadata": {
    "id": "gtlAv2oq9yzd"
   },
   "outputs": [
    {
     "name": "stdout",
     "output_type": "stream",
     "text": [
      "100\n"
     ]
    },
    {
     "data": {
      "text/plain": [
       "100"
      ]
     },
     "execution_count": 44,
     "metadata": {},
     "output_type": "execute_result"
    }
   ],
   "source": [
    "#Write a Python program to find the sum of all elements in a list using loop.\n",
    "#Input:- [10,20,30,40]\n",
    "#Output:- 100\n",
    "Input = [10,20,30,40]\n",
    "sum = 0\n",
    "for i in Input:\n",
    "    sum += i\n",
    "print(sum)\n",
    "\n",
    "# from functools import reduce\n",
    "# reduce(lambda num1,num2:num1+num2, Input)"
   ]
  },
  {
   "cell_type": "code",
   "execution_count": 9,
   "metadata": {
    "id": "gTbA8psa93Y_"
   },
   "outputs": [
    {
     "name": "stdout",
     "output_type": "stream",
     "text": [
      "240000\n"
     ]
    }
   ],
   "source": [
    "#Write a Python program to find the multiplication of all elements in a list using loop.\n",
    "#Input:- [10,20,30,40]\n",
    "#Output:- 240000\n",
    "\n",
    "Input = [10,20,30,40]\n",
    "product = 1\n",
    "for i in Input:\n",
    "    product *= i\n",
    "print(product)\n"
   ]
  },
  {
   "cell_type": "code",
   "execution_count": 45,
   "metadata": {
    "id": "XBCrEtLN94Lj"
   },
   "outputs": [
    {
     "name": "stdout",
     "output_type": "stream",
     "text": [
      "2321\n"
     ]
    }
   ],
   "source": [
    "#Write a Python program to find the largest number from a list using loop.\n",
    "#Input:- [10,100,2321, 1,200,2]\n",
    "#Output:- 2321\n",
    "\n",
    "Input = [10,100,2321, 1,200,2]\n",
    "# One approach to choose initial value for largest is to find smallest number(say x), and use largest = x-1\n",
    "# largest = 0 #what is lowest number in Python, like Integer.MIN_VAL in Java -> https://stackoverflow.com/a/7604981/870834\n",
    "largest = Input[0]\n",
    "for i in Input:\n",
    "    if largest < i:\n",
    "        largest = i\n",
    "print(largest)\n",
    "\n"
   ]
  },
  {
   "cell_type": "code",
   "execution_count": 46,
   "metadata": {
    "id": "l3paUtbH94Vw"
   },
   "outputs": [
    {
     "name": "stdout",
     "output_type": "stream",
     "text": [
      "1\n"
     ]
    }
   ],
   "source": [
    "#Write a Python program to find the smallest number from a list using loop.\n",
    "#Input:- [10,100,2321, 1,200,2]\n",
    "#Output:- 1\n",
    "\n",
    "Input = [10,100,2321, 1,200,2]\n",
    "# One approach to choose initial value for smallest is to find sum of all numbers and use that as initial value for smallest\n",
    "# smallest =  99999#what is highest number in Python, like Integer.MAX_VAL in Java -> https://stackoverflow.com/a/7604981/870834\n",
    "smallest = Input[0]\n",
    "for i in Input:\n",
    "    if smallest > i:\n",
    "        smallest = i\n",
    "print(smallest)\n"
   ]
  },
  {
   "cell_type": "code",
   "execution_count": 50,
   "metadata": {
    "id": "JTVgy5VD94cE"
   },
   "outputs": [
    {
     "data": {
      "text/plain": [
       "['aba', '1991']"
      ]
     },
     "execution_count": 50,
     "metadata": {},
     "output_type": "execute_result"
    }
   ],
   "source": [
    "#Write a Python program to count the number of strings having length more than 2 and are palindrome in a list using loop.\n",
    "#Input:- ['ab', 'abc', 'aba', 'xyz', '1991']\n",
    "#Output:- 2\n",
    "Input=['ab', 'abc', 'aba', 'xyz', '1991']\n",
    "[i for i in Input if len(i)>2 and i==i[::-1]]\n",
    "# type('aa'[::])\n",
    "# print('aa'[::]=='aa')"
   ]
  },
  {
   "cell_type": "code",
   "execution_count": 15,
   "metadata": {
    "id": "xs-ZGJbJ94gr"
   },
   "outputs": [
    {
     "name": "stdout",
     "output_type": "stream",
     "text": [
      "[1, 2, 9, 10, 65, 80, 100, 298, 483, 9213, 49876]\n"
     ]
    }
   ],
   "source": [
    "#Write a Python program to sort a list in ascending order using loop.\n",
    "#Input:- [100,10,1,298,65,483,49876,2,80,9,9213]\n",
    "#Output:- [1,2,9,10,65,80,100,298,483,9213,49876]\n",
    "Input=[100,10,1,298,65,483,49876,2,80,9,9213]\n",
    "Input.sort()\n",
    "print(Input)\n",
    "\n"
   ]
  },
  {
   "cell_type": "code",
   "execution_count": 52,
   "metadata": {
    "id": "VhKQJizZ94kg"
   },
   "outputs": [
    {
     "name": "stdout",
     "output_type": "stream",
     "text": [
      "[(9, 1), (2, 3), (5, 4), (5, 5), (7, 6), (5, 9)]\n"
     ]
    }
   ],
   "source": [
    "#Write a Python program to get a sorted list in increasing order of last element in each tuple in a given list using loop.\n",
    "#Input:- [(5,4),(9,1),(2,3),(5,9),(7,6),(5,5)]\n",
    "#output:- [(9,1),(2,3),(5,4),(5,5),(7,6),(5,9)]\n",
    "\n",
    "Input=[(5,4),(9,1),(2,3),(5,9),(7,6),(5,5)]\n",
    "Input.sort(key = lambda args_:args_[1]) # or args[-1]\n",
    "print(Input)\n",
    "\n"
   ]
  },
  {
   "cell_type": "code",
   "execution_count": 17,
   "metadata": {
    "id": "YJrCLYp694n_"
   },
   "outputs": [
    {
     "name": "stdout",
     "output_type": "stream",
     "text": [
      "[10, 1, 11, 29, 876, 768, 92]\n"
     ]
    }
   ],
   "source": [
    "#Write a Python program to remove fuplicate element from a list using loop.\n",
    "#Input:- [10,1,11,1,29,876,768,10,11,1,92,29,876]\n",
    "#Output:- [10,1,11,29,876,768,92]\n",
    "Input=[10,1,11,1,29,876,768,10,11,1,92,29,876]\n",
    "Output=[]\n",
    "[Output.append(i) for i in Input if i not in Output]\n",
    "print(Output)\n"
   ]
  },
  {
   "cell_type": "code",
   "execution_count": 54,
   "metadata": {
    "id": "koYe4YCu94rh"
   },
   "outputs": [
    {
     "name": "stdout",
     "output_type": "stream",
     "text": [
      "List is empty\n",
      "List is not empty\n"
     ]
    }
   ],
   "source": [
    "#Write a Python program to check a list is empty or not?\n",
    "#Input:- []\n",
    "#Output:- List is empty\n",
    "#Input:- [10,20,30]\n",
    "#Output:- List is not empty\n",
    "Input_1=[]\n",
    "Input_2=[10,20,30]\n",
    "print('List is not empty' if len(Input_1)!=0 else 'List is empty')\n",
    "print('List is not empty' if len(Input_2)!=0 else 'List is empty')\n"
   ]
  },
  {
   "cell_type": "code",
   "execution_count": 20,
   "metadata": {
    "id": "mES1WANa94u5"
   },
   "outputs": [
    {
     "data": {
      "text/plain": [
       "[10, 10.2, (10+20j), 'Python', [10, 20], (10, 20)]"
      ]
     },
     "execution_count": 20,
     "metadata": {},
     "output_type": "execute_result"
    }
   ],
   "source": [
    "#Write a Python program to copy a list using loop.\n",
    "#inp_lst = [10,10.20,10+20j, 'Python', [10,20], (10,20)]\n",
    "#out_lst = [10,10.20,10+20j, 'Python', [10,20], (10,20)]\n",
    "inp_lst = [10,10.20,10+20j, 'Python', [10,20], (10,20)]\n",
    "out_lst = []\n",
    "[out_lst.append(i) for i in inp_lst]\n",
    "out_lst\n",
    "\n"
   ]
  },
  {
   "cell_type": "code",
   "execution_count": 3,
   "metadata": {
    "id": "CpBh31WO94yi"
   },
   "outputs": [
    {
     "data": {
      "text/plain": [
       "['much', 'wood', 'would', 'woodchuck', 'chuck', 'could']"
      ]
     },
     "execution_count": 3,
     "metadata": {},
     "output_type": "execute_result"
    }
   ],
   "source": [
    "#Write a Python program to find the list of words that are longer than or equal to 4 from a given string.\n",
    "#Input:- 'How much wood would a woodchuck chuck if a woodchuck could chuck wood'\n",
    "#Output:- ['much', 'wood', 'would', 'woodchuck', 'chuck', 'could']\n",
    "#Note:- Duplicate should be avoided.\n",
    "\n",
    "Input = 'How much wood would a woodchuck chuck if a woodchuck could chuck wood'\n",
    "Output = []\n",
    "[Output.append(i) for i in Input.split() if len(i)>3 and i not in Output]\n",
    "Output"
   ]
  },
  {
   "cell_type": "code",
   "execution_count": 8,
   "metadata": {
    "id": "YVfj0fgZ9416"
   },
   "outputs": [
    {
     "data": {
      "text/plain": [
       "True"
      ]
     },
     "execution_count": 8,
     "metadata": {},
     "output_type": "execute_result"
    }
   ],
   "source": [
    "#Write a Python program which takes two list as input and returns True if they have at least 3 common elements.\n",
    "inp_lst1 = [10,20,'Python', 10.20, 10+20j, [10,20,30], (10,20,30)]\n",
    "inp_lst2 = [(10,20,30),1,20+3j,100.2, 10+20j, [10,20,30],'Python']\n",
    "#Output:- True\n",
    "\n",
    "len([x for x in inp_lst1 if x in inp_lst2]) >= 3\n"
   ]
  },
  {
   "cell_type": "code",
   "execution_count": 60,
   "metadata": {
    "id": "7vwc3pjR945O"
   },
   "outputs": [
    {
     "data": {
      "text/plain": [
       "[[0, 0, 0, 0], [0, 1, 2, 3], [0, 2, 4, 6], [0, 3, 6, 9]]"
      ]
     },
     "execution_count": 60,
     "metadata": {},
     "output_type": "execute_result"
    }
   ],
   "source": [
    "#Write a Python program to create a 4X4 2D matrix with below elements using loop and list comprehension both.\n",
    "#Output:- [[0,0,0,0],[0,1,2,3],[0,2,4,6],[0,3,6,9]]\n",
    "\n",
    "#################################################################\n",
    "# lst1=[0 for i in range(0,4)]\n",
    "# lst2=[i for i in range(0,4)]\n",
    "# lst3=[i for i in range(0,8,2)]\n",
    "# lst4=[i for i in range(0,10,3)]\n",
    "\n",
    "# [i for i in (lst1,lst2,lst3,lst4)]\n",
    "\n",
    "# OR \n",
    "\n",
    "# Output = []\n",
    "# for i in lst1,lst2,lst3,lst4:\n",
    "#     Output.append(i)\n",
    "# print(Output)\n",
    "\n",
    "#################################################################\n",
    "\n",
    "# Better solution\n",
    "[[i*j for j in range(0,4)] for i in range(0,4)]\n"
   ]
  },
  {
   "cell_type": "code",
   "execution_count": 59,
   "metadata": {
    "id": "Pxafor84948b"
   },
   "outputs": [],
   "source": [
    "#Write a Python program to create a 3X4X6 3D matrix wiith below elements using loop\n",
    "#Output:- \n",
    "# [\n",
    "#     [[0,0,0,0,0,0],[0,0,0,0,0,0],[0,0,0,0,0,0],[0,0,0,0,0,0]],\n",
    "#     [[0,0,0,0,0,0],[1,1,1,1,1,1],[2,2,2,2,2,2],[3,3,3,3,3,3]],\n",
    "#     [[0,0,0,0,0,0],[2,2,2,2,2,2],[4,4,4,4,4,4],[6,6,6,6,6,6]]\n",
    "# ]\n",
    "\n",
    "\n",
    "# Doesn't work!\n",
    "# [[[i+j+k for k in range(4)] for j in range(0,4)] for i in range(4)]\n"
   ]
  },
  {
   "cell_type": "code",
   "execution_count": 10,
   "metadata": {
    "id": "lYNv8gk794_p"
   },
   "outputs": [
    {
     "data": {
      "text/plain": [
       "[21, 87, 45, 33, 1]"
      ]
     },
     "execution_count": 10,
     "metadata": {},
     "output_type": "execute_result"
    }
   ],
   "source": [
    "#Write a Python program which takes a list of numbers as input and prints a new list after removing even numbers from it.\n",
    "#Input:- [10,21,22,98,87,45,33,1,2,100]\n",
    "#Output:- [21,87,45,33,1]\n",
    "\n",
    "Input = [10,21,22,98,87,45,33,1,2,100]\n",
    "Output = [x for x in Input if x%2!=0]\n",
    "Output\n"
   ]
  },
  {
   "cell_type": "code",
   "execution_count": 21,
   "metadata": {
    "id": "3BaCb-rB95B7"
   },
   "outputs": [
    {
     "name": "stdout",
     "output_type": "stream",
     "text": [
      "[10, 2, 22, 87, 100, 1, 21, 33, 45, 98]\n"
     ]
    }
   ],
   "source": [
    "#Write a Python program which takes a list from the user and prints it after reshuffling the elements of the list.\n",
    "#Input:- [10,21,22,98,87,45,33,1,2,100]\n",
    "#Output:- [1,87,21,10,33,2,100,45,98,22] (It may be any randon list but with same elements)\n",
    "\n",
    "##### ---> Multiple solutions listed here - https://www.geeksforgeeks.org/python-ways-to-shuffle-a-list/\n",
    "\n",
    "import random\n",
    "# simple solution:\n",
    "Input= [10,21,22,98,87,45,33,1,2,100]\n",
    "Output = Input.copy()\n",
    "random.shuffle(Output)\n",
    "print(Output)\n",
    "# print(Input) # Just to ensure it is not changing original list\n",
    "\n",
    "# Does't work, gives duplicates!\n",
    "# Input= [10,21,22,98,87,45,33,1,2,100]\n",
    "# Output = []\n",
    "# for i in range(0, len(Input)):\n",
    "#     idx = random.randrange(0, len(Input), 1)\n",
    "#     Output.append(Input[idx])\n",
    "# print(Output)\n",
    "\n",
    "# Multiple solutions listed here - https://www.geeksforgeeks.org/python-ways-to-shuffle-a-list/"
   ]
  },
  {
   "cell_type": "code",
   "execution_count": null,
   "metadata": {},
   "outputs": [],
   "source": []
  }
 ],
 "metadata": {
  "colab": {
   "name": "List_Assignment.ipynb",
   "provenance": []
  },
  "kernelspec": {
   "display_name": "Python 3",
   "language": "python",
   "name": "python3"
  },
  "language_info": {
   "codemirror_mode": {
    "name": "ipython",
    "version": 3
   },
   "file_extension": ".py",
   "mimetype": "text/x-python",
   "name": "python",
   "nbconvert_exporter": "python",
   "pygments_lexer": "ipython3",
   "version": "3.6.5"
  }
 },
 "nbformat": 4,
 "nbformat_minor": 1
}
