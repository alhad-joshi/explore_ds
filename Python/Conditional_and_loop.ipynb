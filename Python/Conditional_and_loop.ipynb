{
 "cells": [
  {
   "cell_type": "markdown",
   "metadata": {},
   "source": [
    "### Alhad Joshi | alhad.coep@gmail.com | +919980820403 | 26th Sept 2021 Morning Batch\n",
    "### Week 3 - Conditional and loop assignment"
   ]
  },
  {
   "cell_type": "markdown",
   "metadata": {
    "id": "wNRNTbrsc53d"
   },
   "source": [
    "# If - elif - else statement"
   ]
  },
  {
   "cell_type": "code",
   "execution_count": 9,
   "metadata": {
    "id": "MiPfTnBycxNa"
   },
   "outputs": [
    {
     "name": "stdout",
     "output_type": "stream",
     "text": [
      "Enter a number: 6\n",
      "number is outside of the range\n"
     ]
    }
   ],
   "source": [
    "#W. A P. which takes one number from 0 to 9 from the user and prints it in the word. And if the word is not from 0 to 9 then\n",
    "#it should print that number is outside of the range and program should exit.\n",
    "# For exapmple:- \n",
    "# input = 1\n",
    "# output = one\n",
    "\n",
    "\n",
    "input_num = int(input('Enter a number: '))\n",
    "mappings = {1: 'one', 2:'two', 3:'Three', 4:'Four', 5:'Five'}\n",
    "\n",
    "# mappings.setdefault('number is outside of the range') # doesn't work, setdefault can be set for a particular key\n",
    "# Interesting read - https://izziswift.com/how-to-set-default-value-to-all-keys-of-a-dict-object-in-python/\n",
    "\n",
    "print('number is outside of the range' if mappings.get(input_num)==None else mappings.get(input_num))"
   ]
  },
  {
   "cell_type": "code",
   "execution_count": 14,
   "metadata": {
    "id": "vEMNOv9zdA39"
   },
   "outputs": [
    {
     "ename": "SyntaxError",
     "evalue": "invalid syntax (<ipython-input-14-357e891eb5a0>, line 19)",
     "output_type": "error",
     "traceback": [
      "\u001b[1;36m  File \u001b[1;32m\"<ipython-input-14-357e891eb5a0>\"\u001b[1;36m, line \u001b[1;32m19\u001b[0m\n\u001b[1;33m    while(operation=int(input('Operation#:'))):\u001b[0m\n\u001b[1;37m                   ^\u001b[0m\n\u001b[1;31mSyntaxError\u001b[0m\u001b[1;31m:\u001b[0m invalid syntax\n"
     ]
    }
   ],
   "source": [
    "#W. A P. to implement calculator but the operation to be done and two numbers will be taken as input from user:-\n",
    "#Operation console should show below:-\n",
    "#     Please select any one operation from below:-\n",
    "#         * To add enter 1\n",
    "#         * to subtract enter 2\n",
    "#         * To multiply enter 3\n",
    "#         * To divide enter 4\n",
    "#         * To divide and find quotient enter 5\n",
    "#         * To divide and find remainder enter 6\n",
    "#         * To divide and find num1 to the power of num2 enter 7\n",
    "#         * To Come out of the program enter 8\n",
    "\n",
    "num_1 = int(input('Enter number 1: '))\n",
    "num_2 = int(input('Enter number 2: '))\n",
    "print('''Please select any one operation from below:-\n",
    "         * To divide enter 4\n",
    "         * To Come out of the program enter 8''')\n",
    "operation = 0\n",
    "while(True):\n",
    "    operation=int(input('Operation#:'))\n",
    "    if operation == 4:\n",
    "        try:\n",
    "            print(num_1/num_2)\n",
    "        except ZeroDivisionError:\n",
    "            print(\"Can't divide by 0\")\n",
    "    elif operation == 8:\n",
    "        break\n",
    "    else:\n",
    "        print('Invalid input')\n",
    "    \n"
   ]
  },
  {
   "cell_type": "code",
   "execution_count": 25,
   "metadata": {
    "id": "1e2gwYLqdC1s"
   },
   "outputs": [
    {
     "name": "stdout",
     "output_type": "stream",
     "text": [
      "Enter an year: 1900\n",
      "non-leap\n"
     ]
    }
   ],
   "source": [
    "#W A P to check whether a year entered by user is an leap year or not?\n",
    "#Check with below input:-\n",
    "    #leap year:- 2012, 1968, 2004, 1200, 1600,2400\n",
    "    #Non-lear year:- 1971, 2006, 1700,1800,1900\n",
    "input_year = int(input('Enter an year: '))\n",
    "if((input_year%100!=0 and input_year%4==0) or input_year%400==0):\n",
    "    print('leap')\n",
    "else:\n",
    "    print('non-leap')\n"
   ]
  },
  {
   "cell_type": "code",
   "execution_count": 28,
   "metadata": {
    "id": "_tpXv1EtdEre"
   },
   "outputs": [
    {
     "name": "stdout",
     "output_type": "stream",
     "text": [
      "Enter a number9\n",
      "Odd\n"
     ]
    }
   ],
   "source": [
    "#W A P which takes one number from the user and checks whether it is an even or odd number?, If it even then prints number is \n",
    "#even number else prints that number is odd number.\n",
    "\n",
    "num_1 = int(input('Enter a number'))\n",
    "if num_1 % 2 == 0:\n",
    "    print('Even')\n",
    "else:\n",
    "    print('Odd')"
   ]
  },
  {
   "cell_type": "code",
   "execution_count": 36,
   "metadata": {
    "id": "Q1HumymCdG6i"
   },
   "outputs": [
    {
     "name": "stdout",
     "output_type": "stream",
     "text": [
      "Enter a number3\n",
      "Enter a number5\n",
      "num2 is greater\n"
     ]
    }
   ],
   "source": [
    "#W A P which takes two numbers from the user and prints below output:-\n",
    "#     1. num1 is greater than num2 if num1 is greater than num2\n",
    "#     2. num1 is smaller than num2 if num1 is smaller than num2\n",
    "#     3. num1 is equal to num2 if num1 and num2 are equal\n",
    "\n",
    "#Note:- 1. Do this problem using if - else \n",
    "#       2. Do this using ternary operator\n",
    "\n",
    "num_1 = int(input('Enter a number'))\n",
    "num_2 = int(input('Enter a number'))\n",
    "# if num_1>num_2:\n",
    "#     print('num1 is greater')\n",
    "# elif num_1<num_2:\n",
    "#     print('num2 is greater')\n",
    "# else:\n",
    "#     print('equal')\n",
    "\n",
    "print('equal') if num_1==num_2 else print('num1 is grateer') if num_1>num_2 else print('num2 is greater')"
   ]
  },
  {
   "cell_type": "code",
   "execution_count": 6,
   "metadata": {
    "id": "LR6TVB-DdOPf"
   },
   "outputs": [
    {
     "name": "stdout",
     "output_type": "stream",
     "text": [
      "Enter a number1\n",
      "Enter a number2\n",
      "Enter a number3\n",
      "num3 is greater\n"
     ]
    }
   ],
   "source": [
    "#W A P which takes three numbers from the user and prints below output:-\n",
    "#     1. num1 is greater than num2 and num3 if num1 is greater than num2 and num3\n",
    "#     2. num2 is greater than num1 and num3 if num2 is greater than num1 and num3\n",
    "#     3. num3 is greater than num1 and num2 if num3 is greater than num1 and num2\n",
    "\n",
    "#Note:- 1. Do this problem using if - elif - else \n",
    "#       2. Do this using ternary operator\n",
    "\n",
    "# a = a if a>b else b\n",
    "\n",
    "num_1 = int(input('Enter a number'))\n",
    "num_2 = int(input('Enter a number'))\n",
    "num_3 = int(input('Enter a number'))\n",
    "if num_1>num_2 and num_1>num_3:\n",
    "    print('num1 is greater')\n",
    "elif num_1<num_2 and num_3<num_2:\n",
    "    print('num2 is greater')\n",
    "elif num_1<num_3 and num_2<num_3:\n",
    "    print('num3 is greater')"
   ]
  },
  {
   "cell_type": "markdown",
   "metadata": {
    "id": "IoOLQMUGdSox"
   },
   "source": [
    "# Loops - for loop, while loop"
   ]
  },
  {
   "cell_type": "code",
   "execution_count": 14,
   "metadata": {
    "id": "9K23Uld8dQfA"
   },
   "outputs": [
    {
     "name": "stdout",
     "output_type": "stream",
     "text": [
      "Enter a string: 9038r903dasf/,a\n",
      "len= 15\n"
     ]
    }
   ],
   "source": [
    "#Write a Python program to find the length of the my_str using loop:-\n",
    "\n",
    "#Input:- 'Write a Python program to find the length of the my_str'\n",
    "#Output:- 55\n",
    "input_str=input('Enter a string: ')\n",
    "count=0\n",
    "for i in input_str:\n",
    "    count+=1\n",
    "print('len=', count)"
   ]
  },
  {
   "cell_type": "code",
   "execution_count": 16,
   "metadata": {
    "id": "bp6AcqTsdYxy"
   },
   "outputs": [
    {
     "name": "stdout",
     "output_type": "stream",
     "text": [
      "count of p= 9\n"
     ]
    }
   ],
   "source": [
    "#Write a Python program to find the total number of times letter 'p' is appeared in the below string using loop:-\n",
    "    \n",
    "#Input:- 'peter piper picked a peck of pickled peppers.\\n'\n",
    "#Output:- 9\n",
    "input_str='peter piper picked a peck of pickled peppers.\\n'\n",
    "count=0\n",
    "for i in input_str:\n",
    "    if(i=='p'):\n",
    "        count+=1\n",
    "print('count of p=', count)\n"
   ]
  },
  {
   "cell_type": "code",
   "execution_count": 19,
   "metadata": {
    "id": "xvxSBhTJdav1"
   },
   "outputs": [
    {
     "name": "stdout",
     "output_type": "stream",
     "text": [
      "0\n",
      "6\n",
      "8\n",
      "12\n",
      "21\n",
      "29\n",
      "37\n",
      "39\n",
      "40\n"
     ]
    }
   ],
   "source": [
    "#Write a Python Program, to print all the indexes of all occurences of letter 'p' appeared in the string using loop:-\n",
    "    \n",
    "#Input:- 'peter piper picked a peck of pickled peppers.'\n",
    "#Output:- \n",
    "# 0\n",
    "# 6\n",
    "# 8\n",
    "# 12\n",
    "# 21\n",
    "# 29\n",
    "# 37\n",
    "# 39\n",
    "# 40\n",
    "input_str='peter piper picked a peck of pickled peppers.\\n'\n",
    "count=0\n",
    "for i in range(len(input_str)):\n",
    "    if(input_str[i]=='p'):\n",
    "        print(i)\n"
   ]
  },
  {
   "cell_type": "code",
   "execution_count": 65,
   "metadata": {
    "id": "79L_feMadbmw"
   },
   "outputs": [
    {
     "name": "stdout",
     "output_type": "stream",
     "text": [
      "['peter', 'piper', 'picked', 'a', 'peck', 'of', 'pickled', 'peppers.']\n"
     ]
    }
   ],
   "source": [
    "#Write a python program to find below output using loop:-\n",
    "\n",
    "#Input:- 'peter piper picked a peck of pickled peppers.'\n",
    "#Output:- ['peter', 'piper', 'picked', 'a', 'peck', 'of', 'pickled', 'peppers']\n",
    "input_str='peter piper picked a peck of pickled peppers.'\n",
    "out_list=[]\n",
    "word=''\n",
    "for i in input_str:\n",
    "    if i!=' ':\n",
    "        word+=i\n",
    "    else:\n",
    "        out_list.append(word);\n",
    "        word=''\n",
    "out_list.append(word)\n",
    "print( out_list)"
   ]
  },
  {
   "cell_type": "code",
   "execution_count": 40,
   "metadata": {
    "id": "vzs5AJ53deVS"
   },
   "outputs": [
    {
     "name": "stdout",
     "output_type": "stream",
     "text": [
      "peppers. pickled of peck a picked piper peter\n"
     ]
    }
   ],
   "source": [
    "#Write a python program to find below output using loop:-\n",
    "\n",
    "#Input:- 'peter piper picked a peck of pickled peppers.'\n",
    "#Output:- 'peppers pickled of peck a picked piper peter'\n",
    "input_str='peter piper picked a peck of pickled peppers.'\n",
    "count=0\n",
    "out_str=''\n",
    "word=''\n",
    "for i in input_str[len(input_str)-1: None: -1]:\n",
    "    if i!=' ':\n",
    "        word+=i\n",
    "    else:\n",
    "        out_str+=word[::-1] + ' ';\n",
    "        word=''\n",
    "out_str+=word[::-1]\n",
    "print(out_str)\n",
    "\n"
   ]
  },
  {
   "cell_type": "code",
   "execution_count": 42,
   "metadata": {
    "id": "i-HP7DrCdhwS"
   },
   "outputs": [
    {
     "name": "stdout",
     "output_type": "stream",
     "text": [
      ".sreppep delkcip fo kcep a dekcip repip retep\n"
     ]
    }
   ],
   "source": [
    "#Write a python program to find below output using loop:-\n",
    "\n",
    "#Input:- 'peter piper picked a peck of pickled peppers.'\n",
    "#Output:- '.sreppep delkcip fo kcep a dekcip repip retep'\n",
    "\n",
    "input_str='peter piper picked a peck of pickled peppers.'\n",
    "count=0\n",
    "out_str=''\n",
    "word=''\n",
    "for i in input_str[len(input_str)-1: None: -1]:\n",
    "    if i!=' ':\n",
    "        word+=i\n",
    "    else:\n",
    "        out_str+=word+ ' ';\n",
    "        word=''\n",
    "out_str+=word\n",
    "print(out_str)\n"
   ]
  },
  {
   "cell_type": "code",
   "execution_count": 44,
   "metadata": {
    "id": "3rt6p0ytdkq0"
   },
   "outputs": [
    {
     "name": "stdout",
     "output_type": "stream",
     "text": [
      "retep repip dekcip a kcep fo delkcip .sreppep\n"
     ]
    }
   ],
   "source": [
    "#Write a python program to find below output using loop:-\n",
    "\n",
    "#Input:- 'peter piper picked a peck of pickled peppers.'\n",
    "#Output:- 'retep repip dekcip a kcep fo delkcip sreppep'\n",
    "\n",
    "input_str='peter piper picked a peck of pickled peppers.'\n",
    "count=0\n",
    "out_str=''\n",
    "word=''\n",
    "for i in input_str:\n",
    "    if i!=' ':\n",
    "        word+=i\n",
    "    else:\n",
    "        out_str+=word[::-1]+ ' ';\n",
    "        word=''\n",
    "out_str+=word[::-1]\n",
    "print(out_str)"
   ]
  },
  {
   "cell_type": "code",
   "execution_count": 45,
   "metadata": {
    "id": "HdlAWgT2dnKO"
   },
   "outputs": [
    {
     "name": "stdout",
     "output_type": "stream",
     "text": [
      "Peter Piper Picked A Peck Of Pickled Peppers.\n"
     ]
    }
   ],
   "source": [
    "#Write a python program to find below output using loop:-\n",
    "\n",
    "#Input:- 'peter piper picked a peck of pickled peppers.'\n",
    "#Output:- 'Peter Piper Picked A Peck Of Pickled Peppers'\n",
    "\n",
    "input_str='peter piper picked a peck of pickled peppers.'\n",
    "count=0\n",
    "out_str=''\n",
    "word=''\n",
    "for i in input_str:\n",
    "    if i!=' ':\n",
    "        word+=i\n",
    "    else:\n",
    "        out_str+=word.title()+ ' ';\n",
    "        word=''\n",
    "out_str+=word.title()\n",
    "print(out_str)"
   ]
  },
  {
   "cell_type": "code",
   "execution_count": 50,
   "metadata": {
    "id": "OthUuacodrNl"
   },
   "outputs": [
    {
     "name": "stdout",
     "output_type": "stream",
     "text": [
      "Peter piper picked a peck of pickled peppers.\n"
     ]
    }
   ],
   "source": [
    "#Write a python program to find below output using loop:-\n",
    "\n",
    "#Input:- 'Peter Piper Picked A Peck Of Pickled Peppers.'\n",
    "#Output:- 'Peter piper picked a peck of pickled peppers'\n",
    "input_str='Peter Piper Picked A Peck Of Pickled Peppers.'\n",
    "count=0\n",
    "out_str=''\n",
    "word=''\n",
    "for i in range(len(input_str)):\n",
    "    if i==0:\n",
    "        word += input_str[i]\n",
    "    else:\n",
    "        word += input_str[i].lower()\n",
    "print(word)\n",
    "    "
   ]
  },
  {
   "cell_type": "code",
   "execution_count": 62,
   "metadata": {
    "colab": {
     "base_uri": "https://localhost:8080/",
     "height": 34
    },
    "id": "scmDJE-ldsI9",
    "outputId": "4b1d1979-9f4a-4bc6-c505-b88b1bbd4d5d"
   },
   "outputs": [
    {
     "name": "stdout",
     "output_type": "stream",
     "text": [
      "29\n"
     ]
    }
   ],
   "source": [
    "#Write a python program to implement index method using loop. If sub_str is found in my_str then it will print the index\n",
    "# of first occurrence of first character of matching string in my_str:-\n",
    "\n",
    "#Input:- my_str = 'Peter Piper Picked A Peck Of Pickled Peppers.', sub_str = 'Pickl'\n",
    "#Output:- 29\n",
    "input_str='Peter Piper Picked A Peck Of Pickled Peppers.'\n",
    "count=0\n",
    "out_str=''\n",
    "sub_str='Pickl'\n",
    "for i in range(len(input_str)):\n",
    "    end_idx = (len(input_str)-1) if (i+len(sub_str)-1) > len(input_str)-1 else (i+len(sub_str)-1)\n",
    "    out_str=input_str[i:end_idx+1]\n",
    "    if(out_str==sub_str):\n",
    "        print(i)\n"
   ]
  },
  {
   "cell_type": "code",
   "execution_count": 63,
   "metadata": {
    "id": "Kq_fwdb_dvYE"
   },
   "outputs": [
    {
     "name": "stdout",
     "output_type": "stream",
     "text": [
      "Peter Piper Picked A Peck Of Pickled Peppers.\n"
     ]
    }
   ],
   "source": [
    "#Write a python program to implement replace method using loop. If sub_str is found in my_str then it will replace the first \n",
    "#occurrence of sub_str with new_str else it will will print sub_str not found:-\n",
    "\n",
    "#Input:- my_str = 'Peter Piper Picked A Peck Of Pickled Peppers.', sub_str = 'Peck', new_str = 'Pack'\n",
    "#Output:- 'Peter Piper Picked A Pack Of Pickled Peppers.'\n",
    "input_str='Peter Piper Picked A Peck Of Pickled Peppers.'\n",
    "found=False\n",
    "out_str=''\n",
    "sub_str='Peck'\n",
    "for i in range(len(input_str)):\n",
    "    end_idx = (len(input_str)-1) if (i+len(sub_str)-1) > len(input_str)-1 else (i+len(sub_str)-1)\n",
    "    out_str=input_str[i:end_idx+1]\n",
    "    if(out_str==sub_str):\n",
    "        found = True\n",
    "        input_str = input_str[:i] + sub_str + input_str[i+len(sub_str):]\n",
    "if found:\n",
    "    print(input_str)\n",
    "else:\n",
    "    print('Not found')\n",
    "\n"
   ]
  },
  {
   "cell_type": "code",
   "execution_count": 4,
   "metadata": {
    "id": "4Qes5D0cdyd1"
   },
   "outputs": [
    {
     "name": "stdout",
     "output_type": "stream",
     "text": [
      "21\n",
      "*********************Peck *******************\n"
     ]
    }
   ],
   "source": [
    "#Write a python program to find below output (implements rjust and ljust) using loop:-\n",
    "\n",
    "#Input:- 'Peter Piper Picked A Peck Of Pickled Peppers.', sub_str = 'Peck', \n",
    "#Output:- '*********************Peck********************'\n",
    "Input='Peter Piper Picked A Peck Of Pickled Peppers.'\n",
    "sub_str = 'Peck'\n",
    "index_substr=Input.index(sub_str)\n",
    "print(index_substr)\n",
    "Output=\"\"\n",
    "for i in range(len(Input)):\n",
    "    if i<index_substr or i>(index_substr+len(sub_str)):\n",
    "        Output+=\"*\"\n",
    "    else:\n",
    "        Output+=Input[i];\n",
    "print(Output)\n",
    "\n"
   ]
  },
  {
   "cell_type": "code",
   "execution_count": 66,
   "metadata": {
    "id": "DsOrb07Od0lR"
   },
   "outputs": [
    {
     "name": "stdout",
     "output_type": "stream",
     "text": [
      "['This', 'is', 'Python', 'class']\n"
     ]
    }
   ],
   "source": [
    "#Write a python program to find below output using loop:-\n",
    "\n",
    "#Input:- 'This is Python class', sep = ' is', \n",
    "#Output:- ['This', 'is', 'Python class']\n",
    "\n",
    "input_str='This is Python class'\n",
    "out_list=[]\n",
    "word=''\n",
    "for i in input_str:\n",
    "    if i!=' ':\n",
    "        word+=i\n",
    "    else:\n",
    "        out_list.append(word);\n",
    "        word=''\n",
    "out_list.append(word)\n",
    "print( out_list)"
   ]
  },
  {
   "cell_type": "code",
   "execution_count": null,
   "metadata": {
    "id": "jRnBVufmd2Ay"
   },
   "outputs": [],
   "source": [
    "\n",
    "\n"
   ]
  }
 ],
 "metadata": {
  "colab": {
   "name": "Conditional_and_loop_assignment.ipynb",
   "provenance": []
  },
  "kernelspec": {
   "display_name": "Python 3",
   "language": "python",
   "name": "python3"
  },
  "language_info": {
   "codemirror_mode": {
    "name": "ipython",
    "version": 3
   },
   "file_extension": ".py",
   "mimetype": "text/x-python",
   "name": "python",
   "nbconvert_exporter": "python",
   "pygments_lexer": "ipython3",
   "version": "3.8.8"
  }
 },
 "nbformat": 4,
 "nbformat_minor": 1
}
